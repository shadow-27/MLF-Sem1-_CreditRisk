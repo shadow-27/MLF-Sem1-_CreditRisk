{
 "cells": [
  {
   "cell_type": "markdown",
   "metadata": {},
   "source": [
    "## <div style=\"border-radius:0px; border:#3eb489 solid; padding: 15px; background-color: #ddefdd; font-size:100%; text-align:center\">Import Libraries</div>"
   ]
  },
  {
   "cell_type": "code",
   "execution_count": 209,
   "metadata": {},
   "outputs": [],
   "source": [
    "import numpy as np\n",
    "import pandas as pd\n",
    "import matplotlib.pyplot as plt\n",
    "import seaborn as sns\n",
    "import plotly.express as px\n",
    "import plotly.subplots as sp\n",
    "#for displaying 500 results in pandas dataframe\n",
    "pd.set_option('display.max_rows', 500)\n",
    "pd.set_option('display.max_columns', 500)\n",
    "pd.set_option('display.width', 1000)\n"
   ]
  },
  {
   "cell_type": "markdown",
   "metadata": {},
   "source": [
    "## <div style=\"border-radius:0px; border:#3eb489 solid; padding: 15px; background-color: #ddefdd; font-size:100%; text-align:center\">1. Read and Explain Dataset</div>"
   ]
  },
  {
   "cell_type": "code",
   "execution_count": 210,
   "metadata": {},
   "outputs": [
    {
     "name": "stdout",
     "output_type": "stream",
     "text": [
      "Input Dataset shape: (233154, 41)\n"
     ]
    },
    {
     "data": {
      "text/html": [
       "<div>\n",
       "<style scoped>\n",
       "    .dataframe tbody tr th:only-of-type {\n",
       "        vertical-align: middle;\n",
       "    }\n",
       "\n",
       "    .dataframe tbody tr th {\n",
       "        vertical-align: top;\n",
       "    }\n",
       "\n",
       "    .dataframe thead th {\n",
       "        text-align: right;\n",
       "    }\n",
       "</style>\n",
       "<table border=\"1\" class=\"dataframe\">\n",
       "  <thead>\n",
       "    <tr style=\"text-align: right;\">\n",
       "      <th></th>\n",
       "      <th>UNIQUEID</th>\n",
       "      <th>DISBURSED_AMOUNT</th>\n",
       "      <th>ASSET_COST</th>\n",
       "      <th>LTV</th>\n",
       "      <th>BRANCH_ID</th>\n",
       "      <th>SUPPLIER_ID</th>\n",
       "      <th>MANUFACTURER_ID</th>\n",
       "      <th>CURRENT_PINCODE_ID</th>\n",
       "      <th>DATE_OF_BIRTH</th>\n",
       "      <th>EMPLOYMENT_TYPE</th>\n",
       "      <th>DISBURSAL_DATE</th>\n",
       "      <th>STATE_ID</th>\n",
       "      <th>EMPLOYEE_CODE_ID</th>\n",
       "      <th>MOBILENO_AVL_FLAG</th>\n",
       "      <th>AADHAR_FLAG</th>\n",
       "      <th>PAN_FLAG</th>\n",
       "      <th>VOTERID_FLAG</th>\n",
       "      <th>DRIVING_FLAG</th>\n",
       "      <th>PASSPORT_FLAG</th>\n",
       "      <th>PERFORM_CNS_SCORE</th>\n",
       "      <th>PERFORM_CNS_SCORE_DESCRIPTION</th>\n",
       "      <th>PRI_NO_OF_ACCTS</th>\n",
       "      <th>PRI_ACTIVE_ACCTS</th>\n",
       "      <th>PRI_OVERDUE_ACCTS</th>\n",
       "      <th>PRI_CURRENT_BALANCE</th>\n",
       "      <th>PRI_SANCTIONED_AMOUNT</th>\n",
       "      <th>PRI_DISBURSED_AMOUNT</th>\n",
       "      <th>SEC_NO_OF_ACCTS</th>\n",
       "      <th>SEC_ACTIVE_ACCTS</th>\n",
       "      <th>SEC_OVERDUE_ACCTS</th>\n",
       "      <th>SEC_CURRENT_BALANCE</th>\n",
       "      <th>SEC_SANCTIONED_AMOUNT</th>\n",
       "      <th>SEC_DISBURSED_AMOUNT</th>\n",
       "      <th>PRIMARY_INSTAL_AMT</th>\n",
       "      <th>SEC_INSTAL_AMT</th>\n",
       "      <th>NEW_ACCTS_IN_LAST_SIX_MONTHS</th>\n",
       "      <th>DELINQUENT_ACCTS_IN_LAST_SIX_MONTHS</th>\n",
       "      <th>AVERAGE_ACCT_AGE</th>\n",
       "      <th>CREDIT_HISTORY_LENGTH</th>\n",
       "      <th>NO_OF_INQUIRIES</th>\n",
       "      <th>LOAN_DEFAULT</th>\n",
       "    </tr>\n",
       "  </thead>\n",
       "  <tbody>\n",
       "    <tr>\n",
       "      <th>0</th>\n",
       "      <td>420825</td>\n",
       "      <td>50578</td>\n",
       "      <td>58400</td>\n",
       "      <td>89.55</td>\n",
       "      <td>67</td>\n",
       "      <td>22807</td>\n",
       "      <td>45</td>\n",
       "      <td>1441</td>\n",
       "      <td>01-01-1984</td>\n",
       "      <td>Salaried</td>\n",
       "      <td>03-08-2018</td>\n",
       "      <td>6</td>\n",
       "      <td>1998</td>\n",
       "      <td>1</td>\n",
       "      <td>1</td>\n",
       "      <td>0</td>\n",
       "      <td>0</td>\n",
       "      <td>0</td>\n",
       "      <td>0</td>\n",
       "      <td>0</td>\n",
       "      <td>No Bureau History Available</td>\n",
       "      <td>0</td>\n",
       "      <td>0</td>\n",
       "      <td>0</td>\n",
       "      <td>0</td>\n",
       "      <td>0</td>\n",
       "      <td>0</td>\n",
       "      <td>0</td>\n",
       "      <td>0</td>\n",
       "      <td>0</td>\n",
       "      <td>0</td>\n",
       "      <td>0</td>\n",
       "      <td>0</td>\n",
       "      <td>0</td>\n",
       "      <td>0</td>\n",
       "      <td>0</td>\n",
       "      <td>0</td>\n",
       "      <td>0yrs 0mon</td>\n",
       "      <td>0yrs 0mon</td>\n",
       "      <td>0</td>\n",
       "      <td>0</td>\n",
       "    </tr>\n",
       "    <tr>\n",
       "      <th>1</th>\n",
       "      <td>537409</td>\n",
       "      <td>47145</td>\n",
       "      <td>65550</td>\n",
       "      <td>73.23</td>\n",
       "      <td>67</td>\n",
       "      <td>22807</td>\n",
       "      <td>45</td>\n",
       "      <td>1502</td>\n",
       "      <td>31-07-1985</td>\n",
       "      <td>Self employed</td>\n",
       "      <td>26-09-2018</td>\n",
       "      <td>6</td>\n",
       "      <td>1998</td>\n",
       "      <td>1</td>\n",
       "      <td>1</td>\n",
       "      <td>0</td>\n",
       "      <td>0</td>\n",
       "      <td>0</td>\n",
       "      <td>0</td>\n",
       "      <td>598</td>\n",
       "      <td>I-Medium Risk</td>\n",
       "      <td>1</td>\n",
       "      <td>1</td>\n",
       "      <td>1</td>\n",
       "      <td>27600</td>\n",
       "      <td>50200</td>\n",
       "      <td>50200</td>\n",
       "      <td>0</td>\n",
       "      <td>0</td>\n",
       "      <td>0</td>\n",
       "      <td>0</td>\n",
       "      <td>0</td>\n",
       "      <td>0</td>\n",
       "      <td>1991</td>\n",
       "      <td>0</td>\n",
       "      <td>0</td>\n",
       "      <td>1</td>\n",
       "      <td>1yrs 11mon</td>\n",
       "      <td>1yrs 11mon</td>\n",
       "      <td>0</td>\n",
       "      <td>1</td>\n",
       "    </tr>\n",
       "    <tr>\n",
       "      <th>2</th>\n",
       "      <td>417566</td>\n",
       "      <td>53278</td>\n",
       "      <td>61360</td>\n",
       "      <td>89.63</td>\n",
       "      <td>67</td>\n",
       "      <td>22807</td>\n",
       "      <td>45</td>\n",
       "      <td>1497</td>\n",
       "      <td>24-08-1985</td>\n",
       "      <td>Self employed</td>\n",
       "      <td>01-08-2018</td>\n",
       "      <td>6</td>\n",
       "      <td>1998</td>\n",
       "      <td>1</td>\n",
       "      <td>1</td>\n",
       "      <td>0</td>\n",
       "      <td>0</td>\n",
       "      <td>0</td>\n",
       "      <td>0</td>\n",
       "      <td>0</td>\n",
       "      <td>No Bureau History Available</td>\n",
       "      <td>0</td>\n",
       "      <td>0</td>\n",
       "      <td>0</td>\n",
       "      <td>0</td>\n",
       "      <td>0</td>\n",
       "      <td>0</td>\n",
       "      <td>0</td>\n",
       "      <td>0</td>\n",
       "      <td>0</td>\n",
       "      <td>0</td>\n",
       "      <td>0</td>\n",
       "      <td>0</td>\n",
       "      <td>0</td>\n",
       "      <td>0</td>\n",
       "      <td>0</td>\n",
       "      <td>0</td>\n",
       "      <td>0yrs 0mon</td>\n",
       "      <td>0yrs 0mon</td>\n",
       "      <td>0</td>\n",
       "      <td>0</td>\n",
       "    </tr>\n",
       "    <tr>\n",
       "      <th>3</th>\n",
       "      <td>624493</td>\n",
       "      <td>57513</td>\n",
       "      <td>66113</td>\n",
       "      <td>88.48</td>\n",
       "      <td>67</td>\n",
       "      <td>22807</td>\n",
       "      <td>45</td>\n",
       "      <td>1501</td>\n",
       "      <td>30-12-1993</td>\n",
       "      <td>Self employed</td>\n",
       "      <td>26-10-2018</td>\n",
       "      <td>6</td>\n",
       "      <td>1998</td>\n",
       "      <td>1</td>\n",
       "      <td>1</td>\n",
       "      <td>0</td>\n",
       "      <td>0</td>\n",
       "      <td>0</td>\n",
       "      <td>0</td>\n",
       "      <td>305</td>\n",
       "      <td>L-Very High Risk</td>\n",
       "      <td>3</td>\n",
       "      <td>0</td>\n",
       "      <td>0</td>\n",
       "      <td>0</td>\n",
       "      <td>0</td>\n",
       "      <td>0</td>\n",
       "      <td>0</td>\n",
       "      <td>0</td>\n",
       "      <td>0</td>\n",
       "      <td>0</td>\n",
       "      <td>0</td>\n",
       "      <td>0</td>\n",
       "      <td>31</td>\n",
       "      <td>0</td>\n",
       "      <td>0</td>\n",
       "      <td>0</td>\n",
       "      <td>0yrs 8mon</td>\n",
       "      <td>1yrs 3mon</td>\n",
       "      <td>1</td>\n",
       "      <td>1</td>\n",
       "    </tr>\n",
       "    <tr>\n",
       "      <th>4</th>\n",
       "      <td>539055</td>\n",
       "      <td>52378</td>\n",
       "      <td>60300</td>\n",
       "      <td>88.39</td>\n",
       "      <td>67</td>\n",
       "      <td>22807</td>\n",
       "      <td>45</td>\n",
       "      <td>1495</td>\n",
       "      <td>09-12-1977</td>\n",
       "      <td>Self employed</td>\n",
       "      <td>26-09-2018</td>\n",
       "      <td>6</td>\n",
       "      <td>1998</td>\n",
       "      <td>1</td>\n",
       "      <td>1</td>\n",
       "      <td>0</td>\n",
       "      <td>0</td>\n",
       "      <td>0</td>\n",
       "      <td>0</td>\n",
       "      <td>0</td>\n",
       "      <td>No Bureau History Available</td>\n",
       "      <td>0</td>\n",
       "      <td>0</td>\n",
       "      <td>0</td>\n",
       "      <td>0</td>\n",
       "      <td>0</td>\n",
       "      <td>0</td>\n",
       "      <td>0</td>\n",
       "      <td>0</td>\n",
       "      <td>0</td>\n",
       "      <td>0</td>\n",
       "      <td>0</td>\n",
       "      <td>0</td>\n",
       "      <td>0</td>\n",
       "      <td>0</td>\n",
       "      <td>0</td>\n",
       "      <td>0</td>\n",
       "      <td>0yrs 0mon</td>\n",
       "      <td>0yrs 0mon</td>\n",
       "      <td>1</td>\n",
       "      <td>1</td>\n",
       "    </tr>\n",
       "    <tr>\n",
       "      <th>5</th>\n",
       "      <td>518279</td>\n",
       "      <td>54513</td>\n",
       "      <td>61900</td>\n",
       "      <td>89.66</td>\n",
       "      <td>67</td>\n",
       "      <td>22807</td>\n",
       "      <td>45</td>\n",
       "      <td>1501</td>\n",
       "      <td>08-09-1990</td>\n",
       "      <td>Self employed</td>\n",
       "      <td>19-09-2018</td>\n",
       "      <td>6</td>\n",
       "      <td>1998</td>\n",
       "      <td>1</td>\n",
       "      <td>1</td>\n",
       "      <td>0</td>\n",
       "      <td>0</td>\n",
       "      <td>0</td>\n",
       "      <td>0</td>\n",
       "      <td>825</td>\n",
       "      <td>A-Very Low Risk</td>\n",
       "      <td>2</td>\n",
       "      <td>0</td>\n",
       "      <td>0</td>\n",
       "      <td>0</td>\n",
       "      <td>0</td>\n",
       "      <td>0</td>\n",
       "      <td>0</td>\n",
       "      <td>0</td>\n",
       "      <td>0</td>\n",
       "      <td>0</td>\n",
       "      <td>0</td>\n",
       "      <td>0</td>\n",
       "      <td>1347</td>\n",
       "      <td>0</td>\n",
       "      <td>0</td>\n",
       "      <td>0</td>\n",
       "      <td>1yrs 9mon</td>\n",
       "      <td>2yrs 0mon</td>\n",
       "      <td>0</td>\n",
       "      <td>0</td>\n",
       "    </tr>\n",
       "  </tbody>\n",
       "</table>\n",
       "</div>"
      ],
      "text/plain": [
       "   UNIQUEID  DISBURSED_AMOUNT  ASSET_COST    LTV  BRANCH_ID  SUPPLIER_ID  MANUFACTURER_ID  CURRENT_PINCODE_ID DATE_OF_BIRTH EMPLOYMENT_TYPE DISBURSAL_DATE  STATE_ID  EMPLOYEE_CODE_ID  MOBILENO_AVL_FLAG  AADHAR_FLAG  PAN_FLAG  VOTERID_FLAG  DRIVING_FLAG  PASSPORT_FLAG  PERFORM_CNS_SCORE PERFORM_CNS_SCORE_DESCRIPTION  PRI_NO_OF_ACCTS  PRI_ACTIVE_ACCTS  PRI_OVERDUE_ACCTS  PRI_CURRENT_BALANCE  PRI_SANCTIONED_AMOUNT  PRI_DISBURSED_AMOUNT  SEC_NO_OF_ACCTS  SEC_ACTIVE_ACCTS  SEC_OVERDUE_ACCTS  SEC_CURRENT_BALANCE  SEC_SANCTIONED_AMOUNT  SEC_DISBURSED_AMOUNT  PRIMARY_INSTAL_AMT  SEC_INSTAL_AMT  NEW_ACCTS_IN_LAST_SIX_MONTHS  DELINQUENT_ACCTS_IN_LAST_SIX_MONTHS AVERAGE_ACCT_AGE CREDIT_HISTORY_LENGTH  NO_OF_INQUIRIES  LOAN_DEFAULT\n",
       "0    420825             50578       58400  89.55         67        22807               45                1441    01-01-1984        Salaried     03-08-2018         6              1998                  1            1         0             0             0              0                  0   No Bureau History Available                0                 0                  0                    0                      0                     0                0                 0                  0                    0                      0                     0                   0               0                             0                                    0        0yrs 0mon             0yrs 0mon                0             0\n",
       "1    537409             47145       65550  73.23         67        22807               45                1502    31-07-1985   Self employed     26-09-2018         6              1998                  1            1         0             0             0              0                598                 I-Medium Risk                1                 1                  1                27600                  50200                 50200                0                 0                  0                    0                      0                     0                1991               0                             0                                    1       1yrs 11mon            1yrs 11mon                0             1\n",
       "2    417566             53278       61360  89.63         67        22807               45                1497    24-08-1985   Self employed     01-08-2018         6              1998                  1            1         0             0             0              0                  0   No Bureau History Available                0                 0                  0                    0                      0                     0                0                 0                  0                    0                      0                     0                   0               0                             0                                    0        0yrs 0mon             0yrs 0mon                0             0\n",
       "3    624493             57513       66113  88.48         67        22807               45                1501    30-12-1993   Self employed     26-10-2018         6              1998                  1            1         0             0             0              0                305              L-Very High Risk                3                 0                  0                    0                      0                     0                0                 0                  0                    0                      0                     0                  31               0                             0                                    0        0yrs 8mon             1yrs 3mon                1             1\n",
       "4    539055             52378       60300  88.39         67        22807               45                1495    09-12-1977   Self employed     26-09-2018         6              1998                  1            1         0             0             0              0                  0   No Bureau History Available                0                 0                  0                    0                      0                     0                0                 0                  0                    0                      0                     0                   0               0                             0                                    0        0yrs 0mon             0yrs 0mon                1             1\n",
       "5    518279             54513       61900  89.66         67        22807               45                1501    08-09-1990   Self employed     19-09-2018         6              1998                  1            1         0             0             0              0                825               A-Very Low Risk                2                 0                  0                    0                      0                     0                0                 0                  0                    0                      0                     0                1347               0                             0                                    0        1yrs 9mon             2yrs 0mon                0             0"
      ]
     },
     "execution_count": 210,
     "metadata": {},
     "output_type": "execute_result"
    }
   ],
   "source": [
    "#Read input data\n",
    "df = pd.read_csv('Data/loan_default_data.csv')\n",
    "#print dataset\n",
    "print(\"Input Dataset shape:\",df.shape)\n",
    "df.head(6)"
   ]
  },
  {
   "cell_type": "markdown",
   "metadata": {},
   "source": [
    "<div style=\"background-color: #ddefdd; padding: 10px; border-radius: 10px; color: #007d3c; text-align: center; box-shadow: 0 4px 8px rgba(0, 0, 0, 0.1);\">\n",
    "    <h1 style=\"font-size: 24px;\">Feature Descriptions</h1>\n",
    "</div>\n",
    "\n",
    "<div style=\"background-color: #f3faf3; padding: 15px; border-radius: 10px; margin-top: 20px; text-align: left;\">\n",
    "<ul>\n",
    "    <li><b>UniqueID:</b> Identifier for customers.</li>\n",
    "    <li><b>disbursed_amount:</b> Amount of Loan disbursed.</li>\n",
    "    <li><b>asset_cost:</b> Cost of the Asset.</li>\n",
    "    <li><b>ltv:</b> Loan to Value of the asset.</li>\n",
    "    <li><b>branch_id:</b> Branch where the loan was disbursed.</li>\n",
    "    <li><b>supplier_id:</b> Vehicle Dealer where the loan was disbursed.</li>\n",
    "    <li><b>manufacturer_id:</b> Vehicle manufacturer (Hero, Honda, TVS etc.).</li>\n",
    "    <li><b>Current_pincode:</b> Current pincode of the customer.</li>\n",
    "    <li><b>Date.of.Birth:</b> Date of birth of the customer.</li>\n",
    "    <li><b>Employment.Type:</b> Employment Type of the customer (Salaried/Self Employed).</li>\n",
    "    <li><b>DisbursalDate:</b> Date of disbursement.</li>\n",
    "    <li><b>State_ID:</b> State of disbursement.</li>\n",
    "    <li><b>Employee_code_ID:</b> Employee of the organization who logged the disbursement.</li>\n",
    "    <li><b>MobileNo_Avl_Flag:</b> If Mobile no. was shared by the customer then flagged as 1.</li>\n",
    "    <li><b>Aadhar_flag:</b> If aadhar was shared by the customer then flagged as 1.</li>\n",
    "    <li><b>PAN_flag:</b> If pan was shared by the customer then flagged as 1.</li>\n",
    "    <li><b>VoterID_flag:</b> If voter ID was shared by the customer then flagged as 1.</li>\n",
    "    <li><b>Driving_flag:</b> If DL was shared by the customer then flagged as 1.</li>\n",
    "    <li><b>Passport_flag:</b> If passport was shared by the customer then flagged as 1.</li>\n",
    "    <li><b>PERFORM_CNS.SCORE:</b> Bureau Score.</li>\n",
    "    <li><b>PERFORM_CNS.SCORE.DESCRIPTION:</b> Bureau score description.</li>\n",
    "    <li><b>PRI.NO.OF.ACCTS:</b> Count of total loans taken by the customer at the time of disbursement.</li>\n",
    "    <li><b>PRI.ACTIVE.ACCTS:</b> Count of active loans taken by the customer at the time of disbursement.</li>\n",
    "    <li><b>PRI.OVERDUE.ACCTS:</b> Count of default accounts at the time of disbursement.</li>\n",
    "    <li><b>PRI.CURRENT.BALANCE:</b> Total Principal outstanding amount of the active loans at the time of disbursement.</li>\n",
    "    <li><b>PRI.SANCTIONED.AMOUNT:</b> Total amount that was sanctioned for all the loans at the time of disbursement.</li>\n",
    "    <li><b>PRI.DISBURSED.AMOUNT:</b> Total amount that was disbursed for all the loans at the time of disbursement.</li>\n",
    "    <li><b>SEC.NO.OF.ACCTS:</b> Count of total loans taken by the customer at the time of disbursement.</li>\n",
    "    <li><b>SEC.ACTIVE.ACCTS:</b> Count of active loans taken by the customer at the time of disbursement.</li>\n",
    "    <li><b>SEC.OVERDUE.ACCTS:</b> Count of default accounts at the time of disbursement.</li>\n",
    "    <li><b>SEC.CURRENT.BALANCE:</b> Total Principal outstanding amount of the active loans at the time of disbursement.</li>\n",
    "    <li><b>SEC.SANCTIONED.AMOUNT:</b> Total amount that was sanctioned for all the loans at the time of disbursement.</li>\n",
    "    <li><b>SEC.DISBURSED.AMOUNT:</b> Total amount that was disbursed for all the loans at the time of disbursement.</li>\n",
    "    <li><b>PRIMARY.INSTAL.AMT:</b> EMI Amount of the primary loan.</li>\n",
    "    <li><b>SEC.INSTAL.AMT:</b> EMI Amount of the secondary loan.</li>\n",
    "    <li><b>NEW.ACCTS.IN.LAST.SIX.MONTHS:</b> New loans taken by the customer in the last 6 months before the disbursement.</li>\n",
    "    <li><b>DELINQUENT.ACCTS.IN.LAST.SIX.MONTHS:</b> Loans defaulted in the last 6 months.</li>\n",
    "    <li><b>AVERAGE.ACCT.AGE:</b> Average loan tenure.</li>\n",
    "    <li><b>CREDIT.HISTORY.LENGTH:</b> Time since first loan.</li>\n",
    "    <li><b>NO.OF_INQUIRIES:</b> Inquiries done by the customer for loans.</li>\n",
    "    <li><b>LOAN_DEFAULT:</b> Payment default in the first EMI on the due date.</li>\n",
    "</ul>\n",
    "</div>"
   ]
  },
  {
   "cell_type": "markdown",
   "metadata": {},
   "source": [
    "## <div style=\"border-radius:0px; border:#3eb489 solid; padding: 15px; background-color: #ddefdd; font-size:100%; text-align:center\">2. Data Pre-processing & EDA</div>"
   ]
  },
  {
   "cell_type": "code",
   "execution_count": 211,
   "metadata": {},
   "outputs": [
    {
     "data": {
      "text/html": [
       "<div>\n",
       "<style scoped>\n",
       "    .dataframe tbody tr th:only-of-type {\n",
       "        vertical-align: middle;\n",
       "    }\n",
       "\n",
       "    .dataframe tbody tr th {\n",
       "        vertical-align: top;\n",
       "    }\n",
       "\n",
       "    .dataframe thead th {\n",
       "        text-align: right;\n",
       "    }\n",
       "</style>\n",
       "<table border=\"1\" class=\"dataframe\">\n",
       "  <thead>\n",
       "    <tr style=\"text-align: right;\">\n",
       "      <th></th>\n",
       "      <th>UNIQUEID</th>\n",
       "      <th>DISBURSED_AMOUNT</th>\n",
       "      <th>ASSET_COST</th>\n",
       "      <th>LTV</th>\n",
       "      <th>BRANCH_ID</th>\n",
       "      <th>SUPPLIER_ID</th>\n",
       "      <th>MANUFACTURER_ID</th>\n",
       "      <th>CURRENT_PINCODE_ID</th>\n",
       "      <th>STATE_ID</th>\n",
       "      <th>EMPLOYEE_CODE_ID</th>\n",
       "      <th>MOBILENO_AVL_FLAG</th>\n",
       "      <th>AADHAR_FLAG</th>\n",
       "      <th>PAN_FLAG</th>\n",
       "      <th>VOTERID_FLAG</th>\n",
       "      <th>DRIVING_FLAG</th>\n",
       "      <th>PASSPORT_FLAG</th>\n",
       "      <th>PERFORM_CNS_SCORE</th>\n",
       "      <th>PRI_NO_OF_ACCTS</th>\n",
       "      <th>PRI_ACTIVE_ACCTS</th>\n",
       "      <th>PRI_OVERDUE_ACCTS</th>\n",
       "      <th>PRI_CURRENT_BALANCE</th>\n",
       "      <th>PRI_SANCTIONED_AMOUNT</th>\n",
       "      <th>PRI_DISBURSED_AMOUNT</th>\n",
       "      <th>SEC_NO_OF_ACCTS</th>\n",
       "      <th>SEC_ACTIVE_ACCTS</th>\n",
       "      <th>SEC_OVERDUE_ACCTS</th>\n",
       "      <th>SEC_CURRENT_BALANCE</th>\n",
       "      <th>SEC_SANCTIONED_AMOUNT</th>\n",
       "      <th>SEC_DISBURSED_AMOUNT</th>\n",
       "      <th>PRIMARY_INSTAL_AMT</th>\n",
       "      <th>SEC_INSTAL_AMT</th>\n",
       "      <th>NEW_ACCTS_IN_LAST_SIX_MONTHS</th>\n",
       "      <th>DELINQUENT_ACCTS_IN_LAST_SIX_MONTHS</th>\n",
       "      <th>NO_OF_INQUIRIES</th>\n",
       "      <th>LOAN_DEFAULT</th>\n",
       "    </tr>\n",
       "  </thead>\n",
       "  <tbody>\n",
       "    <tr>\n",
       "      <th>count</th>\n",
       "      <td>233154.000000</td>\n",
       "      <td>233154.000000</td>\n",
       "      <td>2.331540e+05</td>\n",
       "      <td>233154.000000</td>\n",
       "      <td>233154.000000</td>\n",
       "      <td>233154.000000</td>\n",
       "      <td>233154.000000</td>\n",
       "      <td>233154.000000</td>\n",
       "      <td>233154.000000</td>\n",
       "      <td>233154.000000</td>\n",
       "      <td>233154.0</td>\n",
       "      <td>233154.00000</td>\n",
       "      <td>233154.000000</td>\n",
       "      <td>233154.000000</td>\n",
       "      <td>233154.000000</td>\n",
       "      <td>233154.000000</td>\n",
       "      <td>233154.000000</td>\n",
       "      <td>233154.000000</td>\n",
       "      <td>233154.000000</td>\n",
       "      <td>233154.000000</td>\n",
       "      <td>2.331540e+05</td>\n",
       "      <td>2.331540e+05</td>\n",
       "      <td>2.331540e+05</td>\n",
       "      <td>233154.000000</td>\n",
       "      <td>233154.000000</td>\n",
       "      <td>233154.000000</td>\n",
       "      <td>2.331540e+05</td>\n",
       "      <td>2.331540e+05</td>\n",
       "      <td>2.331540e+05</td>\n",
       "      <td>2.331540e+05</td>\n",
       "      <td>2.331540e+05</td>\n",
       "      <td>233154.000000</td>\n",
       "      <td>233154.000000</td>\n",
       "      <td>233154.000000</td>\n",
       "      <td>233154.000000</td>\n",
       "    </tr>\n",
       "    <tr>\n",
       "      <th>mean</th>\n",
       "      <td>535917.573376</td>\n",
       "      <td>54356.993528</td>\n",
       "      <td>7.586507e+04</td>\n",
       "      <td>74.746530</td>\n",
       "      <td>72.936094</td>\n",
       "      <td>19638.635035</td>\n",
       "      <td>69.028054</td>\n",
       "      <td>3396.880247</td>\n",
       "      <td>7.262243</td>\n",
       "      <td>1549.477148</td>\n",
       "      <td>1.0</td>\n",
       "      <td>0.84032</td>\n",
       "      <td>0.075577</td>\n",
       "      <td>0.144943</td>\n",
       "      <td>0.023242</td>\n",
       "      <td>0.002127</td>\n",
       "      <td>289.462994</td>\n",
       "      <td>2.440636</td>\n",
       "      <td>1.039896</td>\n",
       "      <td>0.156549</td>\n",
       "      <td>1.659001e+05</td>\n",
       "      <td>2.185039e+05</td>\n",
       "      <td>2.180659e+05</td>\n",
       "      <td>0.059081</td>\n",
       "      <td>0.027703</td>\n",
       "      <td>0.007244</td>\n",
       "      <td>5.427793e+03</td>\n",
       "      <td>7.295923e+03</td>\n",
       "      <td>7.179998e+03</td>\n",
       "      <td>1.310548e+04</td>\n",
       "      <td>3.232684e+02</td>\n",
       "      <td>0.381833</td>\n",
       "      <td>0.097481</td>\n",
       "      <td>0.206615</td>\n",
       "      <td>0.217071</td>\n",
       "    </tr>\n",
       "    <tr>\n",
       "      <th>std</th>\n",
       "      <td>68315.693711</td>\n",
       "      <td>12971.314171</td>\n",
       "      <td>1.894478e+04</td>\n",
       "      <td>11.456636</td>\n",
       "      <td>69.834995</td>\n",
       "      <td>3491.949566</td>\n",
       "      <td>22.141304</td>\n",
       "      <td>2238.147502</td>\n",
       "      <td>4.482230</td>\n",
       "      <td>975.261278</td>\n",
       "      <td>0.0</td>\n",
       "      <td>0.36631</td>\n",
       "      <td>0.264320</td>\n",
       "      <td>0.352044</td>\n",
       "      <td>0.150672</td>\n",
       "      <td>0.046074</td>\n",
       "      <td>338.374779</td>\n",
       "      <td>5.217233</td>\n",
       "      <td>1.941496</td>\n",
       "      <td>0.548787</td>\n",
       "      <td>9.422736e+05</td>\n",
       "      <td>2.374794e+06</td>\n",
       "      <td>2.377744e+06</td>\n",
       "      <td>0.626795</td>\n",
       "      <td>0.316057</td>\n",
       "      <td>0.111079</td>\n",
       "      <td>1.702370e+05</td>\n",
       "      <td>1.831560e+05</td>\n",
       "      <td>1.825925e+05</td>\n",
       "      <td>1.513679e+05</td>\n",
       "      <td>1.555369e+04</td>\n",
       "      <td>0.955107</td>\n",
       "      <td>0.384439</td>\n",
       "      <td>0.706498</td>\n",
       "      <td>0.412252</td>\n",
       "    </tr>\n",
       "    <tr>\n",
       "      <th>min</th>\n",
       "      <td>417428.000000</td>\n",
       "      <td>13320.000000</td>\n",
       "      <td>3.700000e+04</td>\n",
       "      <td>10.030000</td>\n",
       "      <td>1.000000</td>\n",
       "      <td>10524.000000</td>\n",
       "      <td>45.000000</td>\n",
       "      <td>1.000000</td>\n",
       "      <td>1.000000</td>\n",
       "      <td>1.000000</td>\n",
       "      <td>1.0</td>\n",
       "      <td>0.00000</td>\n",
       "      <td>0.000000</td>\n",
       "      <td>0.000000</td>\n",
       "      <td>0.000000</td>\n",
       "      <td>0.000000</td>\n",
       "      <td>0.000000</td>\n",
       "      <td>0.000000</td>\n",
       "      <td>0.000000</td>\n",
       "      <td>0.000000</td>\n",
       "      <td>-6.678296e+06</td>\n",
       "      <td>0.000000e+00</td>\n",
       "      <td>0.000000e+00</td>\n",
       "      <td>0.000000</td>\n",
       "      <td>0.000000</td>\n",
       "      <td>0.000000</td>\n",
       "      <td>-5.746470e+05</td>\n",
       "      <td>0.000000e+00</td>\n",
       "      <td>0.000000e+00</td>\n",
       "      <td>0.000000e+00</td>\n",
       "      <td>0.000000e+00</td>\n",
       "      <td>0.000000</td>\n",
       "      <td>0.000000</td>\n",
       "      <td>0.000000</td>\n",
       "      <td>0.000000</td>\n",
       "    </tr>\n",
       "    <tr>\n",
       "      <th>25%</th>\n",
       "      <td>476786.250000</td>\n",
       "      <td>47145.000000</td>\n",
       "      <td>6.571700e+04</td>\n",
       "      <td>68.880000</td>\n",
       "      <td>14.000000</td>\n",
       "      <td>16535.000000</td>\n",
       "      <td>48.000000</td>\n",
       "      <td>1511.000000</td>\n",
       "      <td>4.000000</td>\n",
       "      <td>713.000000</td>\n",
       "      <td>1.0</td>\n",
       "      <td>1.00000</td>\n",
       "      <td>0.000000</td>\n",
       "      <td>0.000000</td>\n",
       "      <td>0.000000</td>\n",
       "      <td>0.000000</td>\n",
       "      <td>0.000000</td>\n",
       "      <td>0.000000</td>\n",
       "      <td>0.000000</td>\n",
       "      <td>0.000000</td>\n",
       "      <td>0.000000e+00</td>\n",
       "      <td>0.000000e+00</td>\n",
       "      <td>0.000000e+00</td>\n",
       "      <td>0.000000</td>\n",
       "      <td>0.000000</td>\n",
       "      <td>0.000000</td>\n",
       "      <td>0.000000e+00</td>\n",
       "      <td>0.000000e+00</td>\n",
       "      <td>0.000000e+00</td>\n",
       "      <td>0.000000e+00</td>\n",
       "      <td>0.000000e+00</td>\n",
       "      <td>0.000000</td>\n",
       "      <td>0.000000</td>\n",
       "      <td>0.000000</td>\n",
       "      <td>0.000000</td>\n",
       "    </tr>\n",
       "    <tr>\n",
       "      <th>50%</th>\n",
       "      <td>535978.500000</td>\n",
       "      <td>53803.000000</td>\n",
       "      <td>7.094600e+04</td>\n",
       "      <td>76.800000</td>\n",
       "      <td>61.000000</td>\n",
       "      <td>20333.000000</td>\n",
       "      <td>86.000000</td>\n",
       "      <td>2970.000000</td>\n",
       "      <td>6.000000</td>\n",
       "      <td>1451.000000</td>\n",
       "      <td>1.0</td>\n",
       "      <td>1.00000</td>\n",
       "      <td>0.000000</td>\n",
       "      <td>0.000000</td>\n",
       "      <td>0.000000</td>\n",
       "      <td>0.000000</td>\n",
       "      <td>0.000000</td>\n",
       "      <td>0.000000</td>\n",
       "      <td>0.000000</td>\n",
       "      <td>0.000000</td>\n",
       "      <td>0.000000e+00</td>\n",
       "      <td>0.000000e+00</td>\n",
       "      <td>0.000000e+00</td>\n",
       "      <td>0.000000</td>\n",
       "      <td>0.000000</td>\n",
       "      <td>0.000000</td>\n",
       "      <td>0.000000e+00</td>\n",
       "      <td>0.000000e+00</td>\n",
       "      <td>0.000000e+00</td>\n",
       "      <td>0.000000e+00</td>\n",
       "      <td>0.000000e+00</td>\n",
       "      <td>0.000000</td>\n",
       "      <td>0.000000</td>\n",
       "      <td>0.000000</td>\n",
       "      <td>0.000000</td>\n",
       "    </tr>\n",
       "    <tr>\n",
       "      <th>75%</th>\n",
       "      <td>595039.750000</td>\n",
       "      <td>60413.000000</td>\n",
       "      <td>7.920175e+04</td>\n",
       "      <td>83.670000</td>\n",
       "      <td>130.000000</td>\n",
       "      <td>23000.000000</td>\n",
       "      <td>86.000000</td>\n",
       "      <td>5677.000000</td>\n",
       "      <td>10.000000</td>\n",
       "      <td>2362.000000</td>\n",
       "      <td>1.0</td>\n",
       "      <td>1.00000</td>\n",
       "      <td>0.000000</td>\n",
       "      <td>0.000000</td>\n",
       "      <td>0.000000</td>\n",
       "      <td>0.000000</td>\n",
       "      <td>678.000000</td>\n",
       "      <td>3.000000</td>\n",
       "      <td>1.000000</td>\n",
       "      <td>0.000000</td>\n",
       "      <td>3.500650e+04</td>\n",
       "      <td>6.250000e+04</td>\n",
       "      <td>6.080000e+04</td>\n",
       "      <td>0.000000</td>\n",
       "      <td>0.000000</td>\n",
       "      <td>0.000000</td>\n",
       "      <td>0.000000e+00</td>\n",
       "      <td>0.000000e+00</td>\n",
       "      <td>0.000000e+00</td>\n",
       "      <td>1.999000e+03</td>\n",
       "      <td>0.000000e+00</td>\n",
       "      <td>0.000000</td>\n",
       "      <td>0.000000</td>\n",
       "      <td>0.000000</td>\n",
       "      <td>0.000000</td>\n",
       "    </tr>\n",
       "    <tr>\n",
       "      <th>max</th>\n",
       "      <td>671084.000000</td>\n",
       "      <td>990572.000000</td>\n",
       "      <td>1.628992e+06</td>\n",
       "      <td>95.000000</td>\n",
       "      <td>261.000000</td>\n",
       "      <td>24803.000000</td>\n",
       "      <td>156.000000</td>\n",
       "      <td>7345.000000</td>\n",
       "      <td>22.000000</td>\n",
       "      <td>3795.000000</td>\n",
       "      <td>1.0</td>\n",
       "      <td>1.00000</td>\n",
       "      <td>1.000000</td>\n",
       "      <td>1.000000</td>\n",
       "      <td>1.000000</td>\n",
       "      <td>1.000000</td>\n",
       "      <td>890.000000</td>\n",
       "      <td>453.000000</td>\n",
       "      <td>144.000000</td>\n",
       "      <td>25.000000</td>\n",
       "      <td>9.652492e+07</td>\n",
       "      <td>1.000000e+09</td>\n",
       "      <td>1.000000e+09</td>\n",
       "      <td>52.000000</td>\n",
       "      <td>36.000000</td>\n",
       "      <td>8.000000</td>\n",
       "      <td>3.603285e+07</td>\n",
       "      <td>3.000000e+07</td>\n",
       "      <td>3.000000e+07</td>\n",
       "      <td>2.564281e+07</td>\n",
       "      <td>4.170901e+06</td>\n",
       "      <td>35.000000</td>\n",
       "      <td>20.000000</td>\n",
       "      <td>36.000000</td>\n",
       "      <td>1.000000</td>\n",
       "    </tr>\n",
       "  </tbody>\n",
       "</table>\n",
       "</div>"
      ],
      "text/plain": [
       "            UNIQUEID  DISBURSED_AMOUNT    ASSET_COST            LTV      BRANCH_ID    SUPPLIER_ID  MANUFACTURER_ID  CURRENT_PINCODE_ID       STATE_ID  EMPLOYEE_CODE_ID  MOBILENO_AVL_FLAG   AADHAR_FLAG       PAN_FLAG   VOTERID_FLAG   DRIVING_FLAG  PASSPORT_FLAG  PERFORM_CNS_SCORE  PRI_NO_OF_ACCTS  PRI_ACTIVE_ACCTS  PRI_OVERDUE_ACCTS  PRI_CURRENT_BALANCE  PRI_SANCTIONED_AMOUNT  PRI_DISBURSED_AMOUNT  SEC_NO_OF_ACCTS  SEC_ACTIVE_ACCTS  SEC_OVERDUE_ACCTS  SEC_CURRENT_BALANCE  SEC_SANCTIONED_AMOUNT  SEC_DISBURSED_AMOUNT  PRIMARY_INSTAL_AMT  SEC_INSTAL_AMT  NEW_ACCTS_IN_LAST_SIX_MONTHS  DELINQUENT_ACCTS_IN_LAST_SIX_MONTHS  NO_OF_INQUIRIES   LOAN_DEFAULT\n",
       "count  233154.000000     233154.000000  2.331540e+05  233154.000000  233154.000000  233154.000000    233154.000000       233154.000000  233154.000000     233154.000000           233154.0  233154.00000  233154.000000  233154.000000  233154.000000  233154.000000      233154.000000    233154.000000     233154.000000      233154.000000         2.331540e+05           2.331540e+05          2.331540e+05    233154.000000     233154.000000      233154.000000         2.331540e+05           2.331540e+05          2.331540e+05        2.331540e+05    2.331540e+05                 233154.000000                        233154.000000    233154.000000  233154.000000\n",
       "mean   535917.573376      54356.993528  7.586507e+04      74.746530      72.936094   19638.635035        69.028054         3396.880247       7.262243       1549.477148                1.0       0.84032       0.075577       0.144943       0.023242       0.002127         289.462994         2.440636          1.039896           0.156549         1.659001e+05           2.185039e+05          2.180659e+05         0.059081          0.027703           0.007244         5.427793e+03           7.295923e+03          7.179998e+03        1.310548e+04    3.232684e+02                      0.381833                             0.097481         0.206615       0.217071\n",
       "std     68315.693711      12971.314171  1.894478e+04      11.456636      69.834995    3491.949566        22.141304         2238.147502       4.482230        975.261278                0.0       0.36631       0.264320       0.352044       0.150672       0.046074         338.374779         5.217233          1.941496           0.548787         9.422736e+05           2.374794e+06          2.377744e+06         0.626795          0.316057           0.111079         1.702370e+05           1.831560e+05          1.825925e+05        1.513679e+05    1.555369e+04                      0.955107                             0.384439         0.706498       0.412252\n",
       "min    417428.000000      13320.000000  3.700000e+04      10.030000       1.000000   10524.000000        45.000000            1.000000       1.000000          1.000000                1.0       0.00000       0.000000       0.000000       0.000000       0.000000           0.000000         0.000000          0.000000           0.000000        -6.678296e+06           0.000000e+00          0.000000e+00         0.000000          0.000000           0.000000        -5.746470e+05           0.000000e+00          0.000000e+00        0.000000e+00    0.000000e+00                      0.000000                             0.000000         0.000000       0.000000\n",
       "25%    476786.250000      47145.000000  6.571700e+04      68.880000      14.000000   16535.000000        48.000000         1511.000000       4.000000        713.000000                1.0       1.00000       0.000000       0.000000       0.000000       0.000000           0.000000         0.000000          0.000000           0.000000         0.000000e+00           0.000000e+00          0.000000e+00         0.000000          0.000000           0.000000         0.000000e+00           0.000000e+00          0.000000e+00        0.000000e+00    0.000000e+00                      0.000000                             0.000000         0.000000       0.000000\n",
       "50%    535978.500000      53803.000000  7.094600e+04      76.800000      61.000000   20333.000000        86.000000         2970.000000       6.000000       1451.000000                1.0       1.00000       0.000000       0.000000       0.000000       0.000000           0.000000         0.000000          0.000000           0.000000         0.000000e+00           0.000000e+00          0.000000e+00         0.000000          0.000000           0.000000         0.000000e+00           0.000000e+00          0.000000e+00        0.000000e+00    0.000000e+00                      0.000000                             0.000000         0.000000       0.000000\n",
       "75%    595039.750000      60413.000000  7.920175e+04      83.670000     130.000000   23000.000000        86.000000         5677.000000      10.000000       2362.000000                1.0       1.00000       0.000000       0.000000       0.000000       0.000000         678.000000         3.000000          1.000000           0.000000         3.500650e+04           6.250000e+04          6.080000e+04         0.000000          0.000000           0.000000         0.000000e+00           0.000000e+00          0.000000e+00        1.999000e+03    0.000000e+00                      0.000000                             0.000000         0.000000       0.000000\n",
       "max    671084.000000     990572.000000  1.628992e+06      95.000000     261.000000   24803.000000       156.000000         7345.000000      22.000000       3795.000000                1.0       1.00000       1.000000       1.000000       1.000000       1.000000         890.000000       453.000000        144.000000          25.000000         9.652492e+07           1.000000e+09          1.000000e+09        52.000000         36.000000           8.000000         3.603285e+07           3.000000e+07          3.000000e+07        2.564281e+07    4.170901e+06                     35.000000                            20.000000        36.000000       1.000000"
      ]
     },
     "execution_count": 211,
     "metadata": {},
     "output_type": "execute_result"
    }
   ],
   "source": [
    "df.describe()"
   ]
  },
  {
   "cell_type": "code",
   "execution_count": 212,
   "metadata": {},
   "outputs": [
    {
     "name": "stdout",
     "output_type": "stream",
     "text": [
      "Null Values in each column:\n",
      "                             column name  Total missing  Percent missing\n",
      "0                       EMPLOYMENT_TYPE           7661         0.032858\n",
      "21        PERFORM_CNS_SCORE_DESCRIPTION              0         0.000000\n",
      "23                       DISBURSAL_DATE              0         0.000000\n",
      "24                           ASSET_COST              0         0.000000\n",
      "25                                  LTV              0         0.000000\n",
      "26                            BRANCH_ID              0         0.000000\n",
      "27                          SUPPLIER_ID              0         0.000000\n",
      "28                      MANUFACTURER_ID              0         0.000000\n",
      "29                   CURRENT_PINCODE_ID              0         0.000000\n",
      "30                        DATE_OF_BIRTH              0         0.000000\n",
      "31                             STATE_ID              0         0.000000\n",
      "32                    PERFORM_CNS_SCORE              0         0.000000\n",
      "33                     EMPLOYEE_CODE_ID              0         0.000000\n",
      "34                    MOBILENO_AVL_FLAG              0         0.000000\n",
      "35                          AADHAR_FLAG              0         0.000000\n",
      "36                             PAN_FLAG              0         0.000000\n",
      "37                         VOTERID_FLAG              0         0.000000\n",
      "38                         DRIVING_FLAG              0         0.000000\n",
      "39                        PASSPORT_FLAG              0         0.000000\n",
      "22                     DISBURSED_AMOUNT              0         0.000000\n",
      "20                     PRI_ACTIVE_ACCTS              0         0.000000\n",
      "1                              UNIQUEID              0         0.000000\n",
      "19                      NO_OF_INQUIRIES              0         0.000000\n",
      "2                 SEC_SANCTIONED_AMOUNT              0         0.000000\n",
      "3                     PRI_OVERDUE_ACCTS              0         0.000000\n",
      "4                   PRI_CURRENT_BALANCE              0         0.000000\n",
      "5                 PRI_SANCTIONED_AMOUNT              0         0.000000\n",
      "6                  PRI_DISBURSED_AMOUNT              0         0.000000\n",
      "7                       SEC_NO_OF_ACCTS              0         0.000000\n",
      "8                      SEC_ACTIVE_ACCTS              0         0.000000\n",
      "9                     SEC_OVERDUE_ACCTS              0         0.000000\n",
      "10                  SEC_CURRENT_BALANCE              0         0.000000\n",
      "11                 SEC_DISBURSED_AMOUNT              0         0.000000\n",
      "12                      PRI_NO_OF_ACCTS              0         0.000000\n",
      "13                   PRIMARY_INSTAL_AMT              0         0.000000\n",
      "14                       SEC_INSTAL_AMT              0         0.000000\n",
      "15         NEW_ACCTS_IN_LAST_SIX_MONTHS              0         0.000000\n",
      "16  DELINQUENT_ACCTS_IN_LAST_SIX_MONTHS              0         0.000000\n",
      "17                     AVERAGE_ACCT_AGE              0         0.000000\n",
      "18                CREDIT_HISTORY_LENGTH              0         0.000000\n",
      "40                         LOAN_DEFAULT              0         0.000000\n"
     ]
    }
   ],
   "source": [
    "#check null values in the dataset\n",
    "null= df.isnull().sum().sort_values(ascending=False)\n",
    "total =df.shape[0]\n",
    "#calculate missing percent\n",
    "percent_missing= (df.isnull().sum()/total).sort_values(ascending=False)\n",
    "\n",
    "missing_data= pd.concat([null, percent_missing], axis=1, keys=['Total missing', 'Percent missing'])\n",
    "\n",
    "missing_data.reset_index(inplace=True)\n",
    "missing_data= missing_data.rename(columns= { \"index\": \" column name\"})\n",
    " \n",
    "print (\"Null Values in each column:\\n\", missing_data.sort_values(by ='Total missing', ascending = False))"
   ]
  },
  {
   "cell_type": "code",
   "execution_count": 213,
   "metadata": {},
   "outputs": [
    {
     "name": "stdout",
     "output_type": "stream",
     "text": [
      "['Salaried' 'Self employed' nan]\n"
     ]
    }
   ],
   "source": [
    "# Lets check the unique columns in Employment_type\n",
    "print(df.EMPLOYMENT_TYPE .unique())\n"
   ]
  },
  {
   "cell_type": "markdown",
   "metadata": {},
   "source": [
    "<div style=\"background-color: #f3faf3; padding: 15px; border-radius: 10px; margin-top: 20px; text-align: left;\">\n",
    "<b>Data Imputation for nan value in Employment_type column with Missing</b>\n",
    " </div>\n"
   ]
  },
  {
   "cell_type": "code",
   "execution_count": 214,
   "metadata": {},
   "outputs": [
    {
     "name": "stdout",
     "output_type": "stream",
     "text": [
      "['Salaried' 'Self employed' 'Missing']\n"
     ]
    }
   ],
   "source": [
    "df['EMPLOYMENT_TYPE'] = df['EMPLOYMENT_TYPE'].fillna(\"Missing\")\n",
    "print(df.EMPLOYMENT_TYPE .unique())\n"
   ]
  },
  {
   "cell_type": "code",
   "execution_count": 215,
   "metadata": {},
   "outputs": [
    {
     "name": "stdout",
     "output_type": "stream",
     "text": [
      "<class 'pandas.core.frame.DataFrame'>\n",
      "RangeIndex: 233154 entries, 0 to 233153\n",
      "Data columns (total 41 columns):\n",
      " #   Column                               Non-Null Count   Dtype  \n",
      "---  ------                               --------------   -----  \n",
      " 0   UNIQUEID                             233154 non-null  int64  \n",
      " 1   DISBURSED_AMOUNT                     233154 non-null  int64  \n",
      " 2   ASSET_COST                           233154 non-null  int64  \n",
      " 3   LTV                                  233154 non-null  float64\n",
      " 4   BRANCH_ID                            233154 non-null  int64  \n",
      " 5   SUPPLIER_ID                          233154 non-null  int64  \n",
      " 6   MANUFACTURER_ID                      233154 non-null  int64  \n",
      " 7   CURRENT_PINCODE_ID                   233154 non-null  int64  \n",
      " 8   DATE_OF_BIRTH                        233154 non-null  object \n",
      " 9   EMPLOYMENT_TYPE                      233154 non-null  object \n",
      " 10  DISBURSAL_DATE                       233154 non-null  object \n",
      " 11  STATE_ID                             233154 non-null  int64  \n",
      " 12  EMPLOYEE_CODE_ID                     233154 non-null  int64  \n",
      " 13  MOBILENO_AVL_FLAG                    233154 non-null  int64  \n",
      " 14  AADHAR_FLAG                          233154 non-null  int64  \n",
      " 15  PAN_FLAG                             233154 non-null  int64  \n",
      " 16  VOTERID_FLAG                         233154 non-null  int64  \n",
      " 17  DRIVING_FLAG                         233154 non-null  int64  \n",
      " 18  PASSPORT_FLAG                        233154 non-null  int64  \n",
      " 19  PERFORM_CNS_SCORE                    233154 non-null  int64  \n",
      " 20  PERFORM_CNS_SCORE_DESCRIPTION        233154 non-null  object \n",
      " 21  PRI_NO_OF_ACCTS                      233154 non-null  int64  \n",
      " 22  PRI_ACTIVE_ACCTS                     233154 non-null  int64  \n",
      " 23  PRI_OVERDUE_ACCTS                    233154 non-null  int64  \n",
      " 24  PRI_CURRENT_BALANCE                  233154 non-null  int64  \n",
      " 25  PRI_SANCTIONED_AMOUNT                233154 non-null  int64  \n",
      " 26  PRI_DISBURSED_AMOUNT                 233154 non-null  int64  \n",
      " 27  SEC_NO_OF_ACCTS                      233154 non-null  int64  \n",
      " 28  SEC_ACTIVE_ACCTS                     233154 non-null  int64  \n",
      " 29  SEC_OVERDUE_ACCTS                    233154 non-null  int64  \n",
      " 30  SEC_CURRENT_BALANCE                  233154 non-null  int64  \n",
      " 31  SEC_SANCTIONED_AMOUNT                233154 non-null  int64  \n",
      " 32  SEC_DISBURSED_AMOUNT                 233154 non-null  int64  \n",
      " 33  PRIMARY_INSTAL_AMT                   233154 non-null  int64  \n",
      " 34  SEC_INSTAL_AMT                       233154 non-null  int64  \n",
      " 35  NEW_ACCTS_IN_LAST_SIX_MONTHS         233154 non-null  int64  \n",
      " 36  DELINQUENT_ACCTS_IN_LAST_SIX_MONTHS  233154 non-null  int64  \n",
      " 37  AVERAGE_ACCT_AGE                     233154 non-null  object \n",
      " 38  CREDIT_HISTORY_LENGTH                233154 non-null  object \n",
      " 39  NO_OF_INQUIRIES                      233154 non-null  int64  \n",
      " 40  LOAN_DEFAULT                         233154 non-null  int64  \n",
      "dtypes: float64(1), int64(34), object(6)\n",
      "memory usage: 72.9+ MB\n"
     ]
    }
   ],
   "source": [
    "df.info()"
   ]
  },
  {
   "cell_type": "code",
   "execution_count": 216,
   "metadata": {},
   "outputs": [
    {
     "name": "stdout",
     "output_type": "stream",
     "text": [
      "Average loan tenure: 1yrs 11mon\n",
      "Credit history: 0yrs 0mon\n"
     ]
    }
   ],
   "source": [
    "print(\"Average loan tenure:\",df['AVERAGE_ACCT_AGE'].iloc[1])\n",
    "print(\"Credit history:\",df['CREDIT_HISTORY_LENGTH'].iloc[4])\n",
    "\n"
   ]
  },
  {
   "cell_type": "markdown",
   "metadata": {},
   "source": [
    "<div style=\"background-color: #f3faf3; padding: 15px; border-radius: 10px; margin-top: 20px; text-align: left;\">\n",
    "<ul>\n",
    "    <li>AVERAGE_ACCT_AGE,CREDIT_HISTORY_LENGTH:are object, but they should be float(yrs).Lets format this properly </li>\n",
    "    <li>DATE_OF_BIRTH,DISBURSAL_DATE:are object,should be datetime </li>\n",
    "</ul>\n",
    "</div>\n"
   ]
  },
  {
   "cell_type": "code",
   "execution_count": 217,
   "metadata": {},
   "outputs": [],
   "source": [
    "#Separate the year and month from the AVERAGE_ACCT_AGE column\n",
    "df[['AVERAGE_ACCT_Yr','AVERAGE_ACCT_Month']] = df['AVERAGE_ACCT_AGE'].str.split(\"yrs\",expand=True)\n",
    "df['AVERAGE_ACCT_Month'] = df['AVERAGE_ACCT_Month'].str.split(\"mon\",expand=True)\n",
    "df[\"AVERAGE_ACCT_AGE\"]= df[\"AVERAGE_ACCT_Yr\"].astype(str).astype(int)+((df[\"AVERAGE_ACCT_Month\"].astype(str).astype(int))/12)\n",
    "df= df.drop(columns= [\"AVERAGE_ACCT_Yr\",\"AVERAGE_ACCT_Month\"])\n",
    "\n",
    "#Separate the year and month from the CREDIT_HISTORY_LENGTH column\n",
    "df[['CREDIT_HISTORY_LENGTH_Yr','CREDIT_HISTORY_LENGTH_Month']] = df['CREDIT_HISTORY_LENGTH'].str.split(\"yrs\",expand=True)\n",
    "df['CREDIT_HISTORY_LENGTH_Month'] = df['CREDIT_HISTORY_LENGTH_Month'].str.split(\"mon\",expand=True)\n",
    "df[\"CREDIT_HISTORY_LENGTH\"]= df[\"CREDIT_HISTORY_LENGTH_Yr\"].astype(str).astype(int)+((df[\"CREDIT_HISTORY_LENGTH_Month\"].astype(str).astype(int))/12)\n",
    "df= df.drop(columns= [\"CREDIT_HISTORY_LENGTH_Yr\",\"CREDIT_HISTORY_LENGTH_Month\"])\n"
   ]
  },
  {
   "cell_type": "code",
   "execution_count": 218,
   "metadata": {},
   "outputs": [
    {
     "name": "stdout",
     "output_type": "stream",
     "text": [
      "Average loan tenure: 1.9166666666666665\n",
      "Credit history: 0.0\n"
     ]
    }
   ],
   "source": [
    "print(\"Average loan tenure:\",df['AVERAGE_ACCT_AGE'].iloc[1])\n",
    "print(\"Credit history:\",df['CREDIT_HISTORY_LENGTH'].iloc[4])"
   ]
  },
  {
   "cell_type": "code",
   "execution_count": 219,
   "metadata": {},
   "outputs": [
    {
     "name": "stdout",
     "output_type": "stream",
     "text": [
      "Average loan tenure: 1985-07-31 00:00:00\n",
      "Credit history: 2018-09-26 00:00:00\n"
     ]
    }
   ],
   "source": [
    "#Convert the columns to datetime\n",
    "df['DATE_OF_BIRTH'] =  pd.to_datetime(train['DATE_OF_BIRTH'], format='%d-%m-%Y')\n",
    "df['DISBURSAL_DATE'] =  pd.to_datetime(train['DISBURSAL_DATE'], format='%d-%m-%Y')\n",
    "print(\"Average loan tenure:\",df['DATE_OF_BIRTH'].iloc[1])\n",
    "print(\"Credit history:\",df['DISBURSAL_DATE'].iloc[4])"
   ]
  },
  {
   "cell_type": "markdown",
   "metadata": {},
   "source": [
    "<div style=\"background-color: #f3faf3; padding: 15px; border-radius: 10px; margin-top: 20px; text-align: left;\">\n",
    "<b>Lets look at the class distribution of LOAN_Default which is one of our target variable </b>\n",
    " </div>"
   ]
  },
  {
   "cell_type": "code",
   "execution_count": 220,
   "metadata": {},
   "outputs": [
    {
     "data": {
      "image/png": "[encoded data removed]",
      "text/plain": [
       "<Figure size 864x432 with 1 Axes>"
      ]
     },
     "metadata": {
      "needs_background": "light"
     },
     "output_type": "display_data"
    },
    {
     "name": "stdout",
     "output_type": "stream",
     "text": [
      "% of no defaults       : 78.29288796246257\n",
      "Number of non defaults     : 182543\n",
      "% of defaults         : 21.70711203753742\n",
      "Number of defaults    : 50611\n"
     ]
    }
   ],
   "source": [
    "#Graph\n",
    "my_pal = {0: 'deepskyblue', 1: 'deeppink'}\n",
    "\n",
    "plt.figure(figsize = (12, 6))\n",
    "ax = sns.countplot(x = 'LOAN_DEFAULT', data = df, palette = my_pal)\n",
    "plt.title('Class Distribution')\n",
    "plt.show()\n",
    "\n",
    "# Count and %\n",
    "Count_Non_Default = len(df[df['LOAN_DEFAULT']==0])\n",
    "Count_Default = len(df[df['LOAN_DEFAULT']==1]) \n",
    "Non_Default_Percent = Count_Non_Default/(Count_Non_Default+Count_Default)\n",
    "print('% of no defaults       :', Non_Default_Percent*100)\n",
    "print('Number of non defaults     :', Count_Non_Default)\n",
    "Default_Percent= Count_Default/(Count_Non_Default+Count_Default)\n",
    "print('% of defaults         :',Default_Percent*100)\n",
    "print('Number of defaults    :', Count_Default)"
   ]
  },
  {
   "cell_type": "markdown",
   "metadata": {},
   "source": [
    "<div style=\"background-color: #f3faf3; padding: 15px; border-radius: 10px; margin-top: 20px; text-align: left;\">\n",
    "<b>We clearly see there is class imbalance in our dataset. We can consider some methods to tackle this problem later in feature engineering.</b><br>\n",
    "    <b> Lets look at some other columns which gives us more context </b>\n",
    " </div>"
   ]
  },
  {
   "cell_type": "code",
   "execution_count": 221,
   "metadata": {},
   "outputs": [
    {
     "data": {
      "application/vnd.plotly.v1+json": {
       "config": {
        "plotlyServerURL": "https://plot.ly"
       },
       "data": [
        {
         "alignmentgroup": "True",
         "hovertemplate": "EMPLOYMENT_TYPE=%{x}<br>proportion=%{y}<br>text=%{text}<br>LOAN_DEFAULT=%{marker.color}<extra></extra>",
         "legendgroup": "",
         "marker": {
          "color": [
           0,
           1,
           0,
           1,
           0,
           1
          ],
          "coloraxis": "coloraxis",
          "pattern": {
           "shape": ""
          }
         },
         "name": "",
         "offsetgroup": "",
         "orientation": "v",
         "showlegend": false,
         "text": [
          "78.54%",
          "21.46%",
          "79.65%",
          "20.35%",
          "77.23%",
          "22.77%"
         ],
         "textposition": "inside",
         "type": "bar",
         "x": [
          "Missing",
          "Missing",
          "Salaried",
          "Salaried",
          "Self employed",
          "Self employed"
         ],
         "xaxis": "x",
         "y": [
          0.7854066048818692,
          0.2145933951181308,
          0.7965419280998999,
          0.20345807190010015,
          0.7723430093626357,
          0.22765699063736436
         ],
         "yaxis": "y"
        }
       ],
       "layout": {
        "annotations": [
         {
          "font": {
           "size": 16
          },
          "showarrow": false,
          "text": "EMPLOYMENT_TYPE vs LOAN_DEFAULT",
          "x": 0.5,
          "xanchor": "center",
          "xref": "paper",
          "y": 1,
          "yanchor": "bottom",
          "yref": "paper"
         }
        ],
        "autosize": true,
        "legend": {
         "title": {
          "text": "LOAN_DEFAULT"
         }
        },
        "showlegend": true,
        "template": {
         "data": {
          "bar": [
           {
            "error_x": {
             "color": "#2a3f5f"
            },
            "error_y": {
             "color": "#2a3f5f"
            },
            "marker": {
             "line": {
              "color": "#E5ECF6",
              "width": 0.5
             },
             "pattern": {
              "fillmode": "overlay",
              "size": 10,
              "solidity": 0.2
             }
            },
            "type": "bar"
           }
          ],
          "barpolar": [
           {
            "marker": {
             "line": {
              "color": "#E5ECF6",
              "width": 0.5
             },
             "pattern": {
              "fillmode": "overlay",
              "size": 10,
              "solidity": 0.2
             }
            },
            "type": "barpolar"
           }
          ],
          "carpet": [
           {
            "aaxis": {
             "endlinecolor": "#2a3f5f",
             "gridcolor": "white",
             "linecolor": "white",
             "minorgridcolor": "white",
             "startlinecolor": "#2a3f5f"
            },
            "baxis": {
             "endlinecolor": "#2a3f5f",
             "gridcolor": "white",
             "linecolor": "white",
             "minorgridcolor": "white",
             "startlinecolor": "#2a3f5f"
            },
            "type": "carpet"
           }
          ],
          "choropleth": [
           {
            "colorbar": {
             "outlinewidth": 0,
             "ticks": ""
            },
            "type": "choropleth"
           }
          ],
          "contour": [
           {
            "colorbar": {
             "outlinewidth": 0,
             "ticks": ""
            },
            "colorscale": [
             [
              0,
              "#0d0887"
             ],
             [
              0.1111111111111111,
              "#46039f"
             ],
             [
              0.2222222222222222,
              "#7201a8"
             ],
             [
              0.3333333333333333,
              "#9c179e"
             ],
             [
              0.4444444444444444,
              "#bd3786"
             ],
             [
              0.5555555555555556,
              "#d8576b"
             ],
             [
              0.6666666666666666,
              "#ed7953"
             ],
             [
              0.7777777777777778,
              "#fb9f3a"
             ],
             [
              0.8888888888888888,
              "#fdca26"
             ],
             [
              1,
              "#f0f921"
             ]
            ],
            "type": "contour"
           }
          ],
          "contourcarpet": [
           {
            "colorbar": {
             "outlinewidth": 0,
             "ticks": ""
            },
            "type": "contourcarpet"
           }
          ],
          "heatmap": [
           {
            "colorbar": {
             "outlinewidth": 0,
             "ticks": ""
            },
            "colorscale": [
             [
              0,
              "#0d0887"
             ],
             [
              0.1111111111111111,
              "#46039f"
             ],
             [
              0.2222222222222222,
              "#7201a8"
             ],
             [
              0.3333333333333333,
              "#9c179e"
             ],
             [
              0.4444444444444444,
              "#bd3786"
             ],
             [
              0.5555555555555556,
              "#d8576b"
             ],
             [
              0.6666666666666666,
              "#ed7953"
             ],
             [
              0.7777777777777778,
              "#fb9f3a"
             ],
             [
              0.8888888888888888,
              "#fdca26"
             ],
             [
              1,
              "#f0f921"
             ]
            ],
            "type": "heatmap"
           }
          ],
          "heatmapgl": [
           {
            "colorbar": {
             "outlinewidth": 0,
             "ticks": ""
            },
            "colorscale": [
             [
              0,
              "#0d0887"
             ],
             [
              0.1111111111111111,
              "#46039f"
             ],
             [
              0.2222222222222222,
              "#7201a8"
             ],
             [
              0.3333333333333333,
              "#9c179e"
             ],
             [
              0.4444444444444444,
              "#bd3786"
             ],
             [
              0.5555555555555556,
              "#d8576b"
             ],
             [
              0.6666666666666666,
              "#ed7953"
             ],
             [
              0.7777777777777778,
              "#fb9f3a"
             ],
             [
              0.8888888888888888,
              "#fdca26"
             ],
             [
              1,
              "#f0f921"
             ]
            ],
            "type": "heatmapgl"
           }
          ],
          "histogram": [
           {
            "marker": {
             "pattern": {
              "fillmode": "overlay",
              "size": 10,
              "solidity": 0.2
             }
            },
            "type": "histogram"
           }
          ],
          "histogram2d": [
           {
            "colorbar": {
             "outlinewidth": 0,
             "ticks": ""
            },
            "colorscale": [
             [
              0,
              "#0d0887"
             ],
             [
              0.1111111111111111,
              "#46039f"
             ],
             [
              0.2222222222222222,
              "#7201a8"
             ],
             [
              0.3333333333333333,
              "#9c179e"
             ],
             [
              0.4444444444444444,
              "#bd3786"
             ],
             [
              0.5555555555555556,
              "#d8576b"
             ],
             [
              0.6666666666666666,
              "#ed7953"
             ],
             [
              0.7777777777777778,
              "#fb9f3a"
             ],
             [
              0.8888888888888888,
              "#fdca26"
             ],
             [
              1,
              "#f0f921"
             ]
            ],
            "type": "histogram2d"
           }
          ],
          "histogram2dcontour": [
           {
            "colorbar": {
             "outlinewidth": 0,
             "ticks": ""
            },
            "colorscale": [
             [
              0,
              "#0d0887"
             ],
             [
              0.1111111111111111,
              "#46039f"
             ],
             [
              0.2222222222222222,
              "#7201a8"
             ],
             [
              0.3333333333333333,
              "#9c179e"
             ],
             [
              0.4444444444444444,
              "#bd3786"
             ],
             [
              0.5555555555555556,
              "#d8576b"
             ],
             [
              0.6666666666666666,
              "#ed7953"
             ],
             [
              0.7777777777777778,
              "#fb9f3a"
             ],
             [
              0.8888888888888888,
              "#fdca26"
             ],
             [
              1,
              "#f0f921"
             ]
            ],
            "type": "histogram2dcontour"
           }
          ],
          "mesh3d": [
           {
            "colorbar": {
             "outlinewidth": 0,
             "ticks": ""
            },
            "type": "mesh3d"
           }
          ],
          "parcoords": [
           {
            "line": {
             "colorbar": {
              "outlinewidth": 0,
              "ticks": ""
             }
            },
            "type": "parcoords"
           }
          ],
          "pie": [
           {
            "automargin": true,
            "type": "pie"
           }
          ],
          "scatter": [
           {
            "marker": {
             "colorbar": {
              "outlinewidth": 0,
              "ticks": ""
             }
            },
            "type": "scatter"
           }
          ],
          "scatter3d": [
           {
            "line": {
             "colorbar": {
              "outlinewidth": 0,
              "ticks": ""
             }
            },
            "marker": {
             "colorbar": {
              "outlinewidth": 0,
              "ticks": ""
             }
            },
            "type": "scatter3d"
           }
          ],
          "scattercarpet": [
           {
            "marker": {
             "colorbar": {
              "outlinewidth": 0,
              "ticks": ""
             }
            },
            "type": "scattercarpet"
           }
          ],
          "scattergeo": [
           {
            "marker": {
             "colorbar": {
              "outlinewidth": 0,
              "ticks": ""
             }
            },
            "type": "scattergeo"
           }
          ],
          "scattergl": [
           {
            "marker": {
             "colorbar": {
              "outlinewidth": 0,
              "ticks": ""
             }
            },
            "type": "scattergl"
           }
          ],
          "scattermapbox": [
           {
            "marker": {
             "colorbar": {
              "outlinewidth": 0,
              "ticks": ""
             }
            },
            "type": "scattermapbox"
           }
          ],
          "scatterpolar": [
           {
            "marker": {
             "colorbar": {
              "outlinewidth": 0,
              "ticks": ""
             }
            },
            "type": "scatterpolar"
           }
          ],
          "scatterpolargl": [
           {
            "marker": {
             "colorbar": {
              "outlinewidth": 0,
              "ticks": ""
             }
            },
            "type": "scatterpolargl"
           }
          ],
          "scatterternary": [
           {
            "marker": {
             "colorbar": {
              "outlinewidth": 0,
              "ticks": ""
             }
            },
            "type": "scatterternary"
           }
          ],
          "surface": [
           {
            "colorbar": {
             "outlinewidth": 0,
             "ticks": ""
            },
            "colorscale": [
             [
              0,
              "#0d0887"
             ],
             [
              0.1111111111111111,
              "#46039f"
             ],
             [
              0.2222222222222222,
              "#7201a8"
             ],
             [
              0.3333333333333333,
              "#9c179e"
             ],
             [
              0.4444444444444444,
              "#bd3786"
             ],
             [
              0.5555555555555556,
              "#d8576b"
             ],
             [
              0.6666666666666666,
              "#ed7953"
             ],
             [
              0.7777777777777778,
              "#fb9f3a"
             ],
             [
              0.8888888888888888,
              "#fdca26"
             ],
             [
              1,
              "#f0f921"
             ]
            ],
            "type": "surface"
           }
          ],
          "table": [
           {
            "cells": {
             "fill": {
              "color": "#EBF0F8"
             },
             "line": {
              "color": "white"
             }
            },
            "header": {
             "fill": {
              "color": "#C8D4E3"
             },
             "line": {
              "color": "white"
             }
            },
            "type": "table"
           }
          ]
         },
         "layout": {
          "annotationdefaults": {
           "arrowcolor": "#2a3f5f",
           "arrowhead": 0,
           "arrowwidth": 1
          },
          "autotypenumbers": "strict",
          "coloraxis": {
           "colorbar": {
            "outlinewidth": 0,
            "ticks": ""
           }
          },
          "colorscale": {
           "diverging": [
            [
             0,
             "#8e0152"
            ],
            [
             0.1,
             "#c51b7d"
            ],
            [
             0.2,
             "#de77ae"
            ],
            [
             0.3,
             "#f1b6da"
            ],
            [
             0.4,
             "#fde0ef"
            ],
            [
             0.5,
             "#f7f7f7"
            ],
            [
             0.6,
             "#e6f5d0"
            ],
            [
             0.7,
             "#b8e186"
            ],
            [
             0.8,
             "#7fbc41"
            ],
            [
             0.9,
             "#4d9221"
            ],
            [
             1,
             "#276419"
            ]
           ],
           "sequential": [
            [
             0,
             "#0d0887"
            ],
            [
             0.1111111111111111,
             "#46039f"
            ],
            [
             0.2222222222222222,
             "#7201a8"
            ],
            [
             0.3333333333333333,
             "#9c179e"
            ],
            [
             0.4444444444444444,
             "#bd3786"
            ],
            [
             0.5555555555555556,
             "#d8576b"
            ],
            [
             0.6666666666666666,
             "#ed7953"
            ],
            [
             0.7777777777777778,
             "#fb9f3a"
            ],
            [
             0.8888888888888888,
             "#fdca26"
            ],
            [
             1,
             "#f0f921"
            ]
           ],
           "sequentialminus": [
            [
             0,
             "#0d0887"
            ],
            [
             0.1111111111111111,
             "#46039f"
            ],
            [
             0.2222222222222222,
             "#7201a8"
            ],
            [
             0.3333333333333333,
             "#9c179e"
            ],
            [
             0.4444444444444444,
             "#bd3786"
            ],
            [
             0.5555555555555556,
             "#d8576b"
            ],
            [
             0.6666666666666666,
             "#ed7953"
            ],
            [
             0.7777777777777778,
             "#fb9f3a"
            ],
            [
             0.8888888888888888,
             "#fdca26"
            ],
            [
             1,
             "#f0f921"
            ]
           ]
          },
          "colorway": [
           "#636efa",
           "#EF553B",
           "#00cc96",
           "#ab63fa",
           "#FFA15A",
           "#19d3f3",
           "#FF6692",
           "#B6E880",
           "#FF97FF",
           "#FECB52"
          ],
          "font": {
           "color": "#2a3f5f"
          },
          "geo": {
           "bgcolor": "white",
           "lakecolor": "white",
           "landcolor": "#E5ECF6",
           "showlakes": true,
           "showland": true,
           "subunitcolor": "white"
          },
          "hoverlabel": {
           "align": "left"
          },
          "hovermode": "closest",
          "mapbox": {
           "style": "light"
          },
          "paper_bgcolor": "white",
          "plot_bgcolor": "#E5ECF6",
          "polar": {
           "angularaxis": {
            "gridcolor": "white",
            "linecolor": "white",
            "ticks": ""
           },
           "bgcolor": "#E5ECF6",
           "radialaxis": {
            "gridcolor": "white",
            "linecolor": "white",
            "ticks": ""
           }
          },
          "scene": {
           "xaxis": {
            "backgroundcolor": "#E5ECF6",
            "gridcolor": "white",
            "gridwidth": 2,
            "linecolor": "white",
            "showbackground": true,
            "ticks": "",
            "zerolinecolor": "white"
           },
           "yaxis": {
            "backgroundcolor": "#E5ECF6",
            "gridcolor": "white",
            "gridwidth": 2,
            "linecolor": "white",
            "showbackground": true,
            "ticks": "",
            "zerolinecolor": "white"
           },
           "zaxis": {
            "backgroundcolor": "#E5ECF6",
            "gridcolor": "white",
            "gridwidth": 2,
            "linecolor": "white",
            "showbackground": true,
            "ticks": "",
            "zerolinecolor": "white"
           }
          },
          "shapedefaults": {
           "line": {
            "color": "#2a3f5f"
           }
          },
          "ternary": {
           "aaxis": {
            "gridcolor": "white",
            "linecolor": "white",
            "ticks": ""
           },
           "baxis": {
            "gridcolor": "white",
            "linecolor": "white",
            "ticks": ""
           },
           "bgcolor": "#E5ECF6",
           "caxis": {
            "gridcolor": "white",
            "linecolor": "white",
            "ticks": ""
           }
          },
          "title": {
           "x": 0.05
          },
          "xaxis": {
           "automargin": true,
           "gridcolor": "white",
           "linecolor": "white",
           "ticks": "",
           "title": {
            "standoff": 15
           },
           "zerolinecolor": "white",
           "zerolinewidth": 2
          },
          "yaxis": {
           "automargin": true,
           "gridcolor": "white",
           "linecolor": "white",
           "ticks": "",
           "title": {
            "standoff": 15
           },
           "zerolinecolor": "white",
           "zerolinewidth": 2
          }
         }
        },
        "title": {
         "text": "Analysis of Columns vs LOAN_DEFAULT"
        },
        "xaxis": {
         "anchor": "y",
         "autorange": true,
         "domain": [
          0,
          1
         ],
         "range": [
          -0.5,
          2.5
         ],
         "type": "category"
        },
        "yaxis": {
         "anchor": "x",
         "autorange": true,
         "domain": [
          0,
          1
         ],
         "range": [
          0,
          1.0526315789473684
         ],
         "type": "linear"
        }
       }
      },
      "image/png": "[encoded data removed]",
      "text/html": [
       "<div>                            <div id=\"40fb97e5-7713-416a-9201-b27b5bccf42b\" class=\"plotly-graph-div\" style=\"height:200px; width:100%;\"></div>            <script type=\"text/javascript\">                require([\"plotly\"], function(Plotly) {                    window.PLOTLYENV=window.PLOTLYENV || {};                                    if (document.getElementById(\"40fb97e5-7713-416a-9201-b27b5bccf42b\")) {                    Plotly.newPlot(                        \"40fb97e5-7713-416a-9201-b27b5bccf42b\",                        [{\"alignmentgroup\":\"True\",\"hovertemplate\":\"EMPLOYMENT_TYPE=%{x}<br>proportion=%{y}<br>text=%{text}<br>LOAN_DEFAULT=%{marker.color}<extra></extra>\",\"legendgroup\":\"\",\"marker\":{\"color\":[0,1,0,1,0,1],\"coloraxis\":\"coloraxis\",\"pattern\":{\"shape\":\"\"}},\"name\":\"\",\"offsetgroup\":\"\",\"orientation\":\"v\",\"showlegend\":false,\"text\":[\"78.54%\",\"21.46%\",\"79.65%\",\"20.35%\",\"77.23%\",\"22.77%\"],\"textposition\":\"inside\",\"x\":[\"Missing\",\"Missing\",\"Salaried\",\"Salaried\",\"Self employed\",\"Self employed\"],\"xaxis\":\"x\",\"y\":[0.7854066048818692,0.2145933951181308,0.7965419280998999,0.20345807190010015,0.7723430093626357,0.22765699063736436],\"yaxis\":\"y\",\"type\":\"bar\"}],                        {\"template\":{\"data\":{\"bar\":[{\"error_x\":{\"color\":\"#2a3f5f\"},\"error_y\":{\"color\":\"#2a3f5f\"},\"marker\":{\"line\":{\"color\":\"#E5ECF6\",\"width\":0.5},\"pattern\":{\"fillmode\":\"overlay\",\"size\":10,\"solidity\":0.2}},\"type\":\"bar\"}],\"barpolar\":[{\"marker\":{\"line\":{\"color\":\"#E5ECF6\",\"width\":0.5},\"pattern\":{\"fillmode\":\"overlay\",\"size\":10,\"solidity\":0.2}},\"type\":\"barpolar\"}],\"carpet\":[{\"aaxis\":{\"endlinecolor\":\"#2a3f5f\",\"gridcolor\":\"white\",\"linecolor\":\"white\",\"minorgridcolor\":\"white\",\"startlinecolor\":\"#2a3f5f\"},\"baxis\":{\"endlinecolor\":\"#2a3f5f\",\"gridcolor\":\"white\",\"linecolor\":\"white\",\"minorgridcolor\":\"white\",\"startlinecolor\":\"#2a3f5f\"},\"type\":\"carpet\"}],\"choropleth\":[{\"colorbar\":{\"outlinewidth\":0,\"ticks\":\"\"},\"type\":\"choropleth\"}],\"contour\":[{\"colorbar\":{\"outlinewidth\":0,\"ticks\":\"\"},\"colorscale\":[[0.0,\"#0d0887\"],[0.1111111111111111,\"#46039f\"],[0.2222222222222222,\"#7201a8\"],[0.3333333333333333,\"#9c179e\"],[0.4444444444444444,\"#bd3786\"],[0.5555555555555556,\"#d8576b\"],[0.6666666666666666,\"#ed7953\"],[0.7777777777777778,\"#fb9f3a\"],[0.8888888888888888,\"#fdca26\"],[1.0,\"#f0f921\"]],\"type\":\"contour\"}],\"contourcarpet\":[{\"colorbar\":{\"outlinewidth\":0,\"ticks\":\"\"},\"type\":\"contourcarpet\"}],\"heatmap\":[{\"colorbar\":{\"outlinewidth\":0,\"ticks\":\"\"},\"colorscale\":[[0.0,\"#0d0887\"],[0.1111111111111111,\"#46039f\"],[0.2222222222222222,\"#7201a8\"],[0.3333333333333333,\"#9c179e\"],[0.4444444444444444,\"#bd3786\"],[0.5555555555555556,\"#d8576b\"],[0.6666666666666666,\"#ed7953\"],[0.7777777777777778,\"#fb9f3a\"],[0.8888888888888888,\"#fdca26\"],[1.0,\"#f0f921\"]],\"type\":\"heatmap\"}],\"heatmapgl\":[{\"colorbar\":{\"outlinewidth\":0,\"ticks\":\"\"},\"colorscale\":[[0.0,\"#0d0887\"],[0.1111111111111111,\"#46039f\"],[0.2222222222222222,\"#7201a8\"],[0.3333333333333333,\"#9c179e\"],[0.4444444444444444,\"#bd3786\"],[0.5555555555555556,\"#d8576b\"],[0.6666666666666666,\"#ed7953\"],[0.7777777777777778,\"#fb9f3a\"],[0.8888888888888888,\"#fdca26\"],[1.0,\"#f0f921\"]],\"type\":\"heatmapgl\"}],\"histogram\":[{\"marker\":{\"pattern\":{\"fillmode\":\"overlay\",\"size\":10,\"solidity\":0.2}},\"type\":\"histogram\"}],\"histogram2d\":[{\"colorbar\":{\"outlinewidth\":0,\"ticks\":\"\"},\"colorscale\":[[0.0,\"#0d0887\"],[0.1111111111111111,\"#46039f\"],[0.2222222222222222,\"#7201a8\"],[0.3333333333333333,\"#9c179e\"],[0.4444444444444444,\"#bd3786\"],[0.5555555555555556,\"#d8576b\"],[0.6666666666666666,\"#ed7953\"],[0.7777777777777778,\"#fb9f3a\"],[0.8888888888888888,\"#fdca26\"],[1.0,\"#f0f921\"]],\"type\":\"histogram2d\"}],\"histogram2dcontour\":[{\"colorbar\":{\"outlinewidth\":0,\"ticks\":\"\"},\"colorscale\":[[0.0,\"#0d0887\"],[0.1111111111111111,\"#46039f\"],[0.2222222222222222,\"#7201a8\"],[0.3333333333333333,\"#9c179e\"],[0.4444444444444444,\"#bd3786\"],[0.5555555555555556,\"#d8576b\"],[0.6666666666666666,\"#ed7953\"],[0.7777777777777778,\"#fb9f3a\"],[0.8888888888888888,\"#fdca26\"],[1.0,\"#f0f921\"]],\"type\":\"histogram2dcontour\"}],\"mesh3d\":[{\"colorbar\":{\"outlinewidth\":0,\"ticks\":\"\"},\"type\":\"mesh3d\"}],\"parcoords\":[{\"line\":{\"colorbar\":{\"outlinewidth\":0,\"ticks\":\"\"}},\"type\":\"parcoords\"}],\"pie\":[{\"automargin\":true,\"type\":\"pie\"}],\"scatter\":[{\"marker\":{\"colorbar\":{\"outlinewidth\":0,\"ticks\":\"\"}},\"type\":\"scatter\"}],\"scatter3d\":[{\"line\":{\"colorbar\":{\"outlinewidth\":0,\"ticks\":\"\"}},\"marker\":{\"colorbar\":{\"outlinewidth\":0,\"ticks\":\"\"}},\"type\":\"scatter3d\"}],\"scattercarpet\":[{\"marker\":{\"colorbar\":{\"outlinewidth\":0,\"ticks\":\"\"}},\"type\":\"scattercarpet\"}],\"scattergeo\":[{\"marker\":{\"colorbar\":{\"outlinewidth\":0,\"ticks\":\"\"}},\"type\":\"scattergeo\"}],\"scattergl\":[{\"marker\":{\"colorbar\":{\"outlinewidth\":0,\"ticks\":\"\"}},\"type\":\"scattergl\"}],\"scattermapbox\":[{\"marker\":{\"colorbar\":{\"outlinewidth\":0,\"ticks\":\"\"}},\"type\":\"scattermapbox\"}],\"scatterpolar\":[{\"marker\":{\"colorbar\":{\"outlinewidth\":0,\"ticks\":\"\"}},\"type\":\"scatterpolar\"}],\"scatterpolargl\":[{\"marker\":{\"colorbar\":{\"outlinewidth\":0,\"ticks\":\"\"}},\"type\":\"scatterpolargl\"}],\"scatterternary\":[{\"marker\":{\"colorbar\":{\"outlinewidth\":0,\"ticks\":\"\"}},\"type\":\"scatterternary\"}],\"surface\":[{\"colorbar\":{\"outlinewidth\":0,\"ticks\":\"\"},\"colorscale\":[[0.0,\"#0d0887\"],[0.1111111111111111,\"#46039f\"],[0.2222222222222222,\"#7201a8\"],[0.3333333333333333,\"#9c179e\"],[0.4444444444444444,\"#bd3786\"],[0.5555555555555556,\"#d8576b\"],[0.6666666666666666,\"#ed7953\"],[0.7777777777777778,\"#fb9f3a\"],[0.8888888888888888,\"#fdca26\"],[1.0,\"#f0f921\"]],\"type\":\"surface\"}],\"table\":[{\"cells\":{\"fill\":{\"color\":\"#EBF0F8\"},\"line\":{\"color\":\"white\"}},\"header\":{\"fill\":{\"color\":\"#C8D4E3\"},\"line\":{\"color\":\"white\"}},\"type\":\"table\"}]},\"layout\":{\"annotationdefaults\":{\"arrowcolor\":\"#2a3f5f\",\"arrowhead\":0,\"arrowwidth\":1},\"autotypenumbers\":\"strict\",\"coloraxis\":{\"colorbar\":{\"outlinewidth\":0,\"ticks\":\"\"}},\"colorscale\":{\"diverging\":[[0,\"#8e0152\"],[0.1,\"#c51b7d\"],[0.2,\"#de77ae\"],[0.3,\"#f1b6da\"],[0.4,\"#fde0ef\"],[0.5,\"#f7f7f7\"],[0.6,\"#e6f5d0\"],[0.7,\"#b8e186\"],[0.8,\"#7fbc41\"],[0.9,\"#4d9221\"],[1,\"#276419\"]],\"sequential\":[[0.0,\"#0d0887\"],[0.1111111111111111,\"#46039f\"],[0.2222222222222222,\"#7201a8\"],[0.3333333333333333,\"#9c179e\"],[0.4444444444444444,\"#bd3786\"],[0.5555555555555556,\"#d8576b\"],[0.6666666666666666,\"#ed7953\"],[0.7777777777777778,\"#fb9f3a\"],[0.8888888888888888,\"#fdca26\"],[1.0,\"#f0f921\"]],\"sequentialminus\":[[0.0,\"#0d0887\"],[0.1111111111111111,\"#46039f\"],[0.2222222222222222,\"#7201a8\"],[0.3333333333333333,\"#9c179e\"],[0.4444444444444444,\"#bd3786\"],[0.5555555555555556,\"#d8576b\"],[0.6666666666666666,\"#ed7953\"],[0.7777777777777778,\"#fb9f3a\"],[0.8888888888888888,\"#fdca26\"],[1.0,\"#f0f921\"]]},\"colorway\":[\"#636efa\",\"#EF553B\",\"#00cc96\",\"#ab63fa\",\"#FFA15A\",\"#19d3f3\",\"#FF6692\",\"#B6E880\",\"#FF97FF\",\"#FECB52\"],\"font\":{\"color\":\"#2a3f5f\"},\"geo\":{\"bgcolor\":\"white\",\"lakecolor\":\"white\",\"landcolor\":\"#E5ECF6\",\"showlakes\":true,\"showland\":true,\"subunitcolor\":\"white\"},\"hoverlabel\":{\"align\":\"left\"},\"hovermode\":\"closest\",\"mapbox\":{\"style\":\"light\"},\"paper_bgcolor\":\"white\",\"plot_bgcolor\":\"#E5ECF6\",\"polar\":{\"angularaxis\":{\"gridcolor\":\"white\",\"linecolor\":\"white\",\"ticks\":\"\"},\"bgcolor\":\"#E5ECF6\",\"radialaxis\":{\"gridcolor\":\"white\",\"linecolor\":\"white\",\"ticks\":\"\"}},\"scene\":{\"xaxis\":{\"backgroundcolor\":\"#E5ECF6\",\"gridcolor\":\"white\",\"gridwidth\":2,\"linecolor\":\"white\",\"showbackground\":true,\"ticks\":\"\",\"zerolinecolor\":\"white\"},\"yaxis\":{\"backgroundcolor\":\"#E5ECF6\",\"gridcolor\":\"white\",\"gridwidth\":2,\"linecolor\":\"white\",\"showbackground\":true,\"ticks\":\"\",\"zerolinecolor\":\"white\"},\"zaxis\":{\"backgroundcolor\":\"#E5ECF6\",\"gridcolor\":\"white\",\"gridwidth\":2,\"linecolor\":\"white\",\"showbackground\":true,\"ticks\":\"\",\"zerolinecolor\":\"white\"}},\"shapedefaults\":{\"line\":{\"color\":\"#2a3f5f\"}},\"ternary\":{\"aaxis\":{\"gridcolor\":\"white\",\"linecolor\":\"white\",\"ticks\":\"\"},\"baxis\":{\"gridcolor\":\"white\",\"linecolor\":\"white\",\"ticks\":\"\"},\"bgcolor\":\"#E5ECF6\",\"caxis\":{\"gridcolor\":\"white\",\"linecolor\":\"white\",\"ticks\":\"\"}},\"title\":{\"x\":0.05},\"xaxis\":{\"automargin\":true,\"gridcolor\":\"white\",\"linecolor\":\"white\",\"ticks\":\"\",\"title\":{\"standoff\":15},\"zerolinecolor\":\"white\",\"zerolinewidth\":2},\"yaxis\":{\"automargin\":true,\"gridcolor\":\"white\",\"linecolor\":\"white\",\"ticks\":\"\",\"title\":{\"standoff\":15},\"zerolinecolor\":\"white\",\"zerolinewidth\":2}}},\"xaxis\":{\"anchor\":\"y\",\"domain\":[0.0,1.0]},\"yaxis\":{\"anchor\":\"x\",\"domain\":[0.0,1.0]},\"annotations\":[{\"font\":{\"size\":16},\"showarrow\":false,\"text\":\"EMPLOYMENT_TYPE vs LOAN_DEFAULT\",\"x\":0.5,\"xanchor\":\"center\",\"xref\":\"paper\",\"y\":1.0,\"yanchor\":\"bottom\",\"yref\":\"paper\"}],\"title\":{\"text\":\"Analysis of Columns vs LOAN_DEFAULT\"},\"legend\":{\"title\":{\"text\":\"LOAN_DEFAULT\"}},\"height\":200,\"showlegend\":true},                        {\"responsive\": true}                    ).then(function(){\n",
       "                            \n",
       "var gd = document.getElementById('40fb97e5-7713-416a-9201-b27b5bccf42b');\n",
       "var x = new MutationObserver(function (mutations, observer) {{\n",
       "        var display = window.getComputedStyle(gd).display;\n",
       "        if (!display || display === 'none') {{\n",
       "            console.log([gd, 'removed!']);\n",
       "            Plotly.purge(gd);\n",
       "            observer.disconnect();\n",
       "        }}\n",
       "}});\n",
       "\n",
       "// Listen for the removal of the full notebook cells\n",
       "var notebookContainer = gd.closest('#notebook-container');\n",
       "if (notebookContainer) {{\n",
       "    x.observe(notebookContainer, {childList: true});\n",
       "}}\n",
       "\n",
       "// Listen for the clearing of the current output cell\n",
       "var outputEl = gd.closest('.output');\n",
       "if (outputEl) {{\n",
       "    x.observe(outputEl, {childList: true});\n",
       "}}\n",
       "\n",
       "                        })                };                });            </script>        </div>"
      ]
     },
     "metadata": {},
     "output_type": "display_data"
    }
   ],
   "source": [
    "# List of columns to analyze\n",
    "columns = [\"EMPLOYMENT_TYPE\"]\n",
    "\n",
    "# Create subplots\n",
    "fig = sp.make_subplots(rows=len(columns), cols=1, subplot_titles=[f\"{col} vs LOAN_DEFAULT\" for col in columns])\n",
    "\n",
    "# Add each column to the subplot\n",
    "for i, column in enumerate(columns, start=1):\n",
    "    grouped = df.groupby([column])[\"LOAN_DEFAULT\"].value_counts(normalize=True).reset_index(name=\"proportion\")\n",
    "    \n",
    "    fig_col = px.bar(\n",
    "        grouped,\n",
    "        x=column,\n",
    "        y=\"proportion\",\n",
    "        color=\"LOAN_DEFAULT\",\n",
    "        barmode=\"stack\",\n",
    "        text=grouped[\"proportion\"].map(lambda x: f\"{x:.2%}\"),\n",
    "    ).update_traces(textposition=\"inside\")\n",
    "\n",
    "    for trace in fig_col.data:\n",
    "        fig.add_trace(trace, row=i, col=1)\n",
    "\n",
    "# Update layout\n",
    "fig.update_layout(\n",
    "    height=200 * len(columns),\n",
    "    title_text=\"Analysis of Columns vs LOAN_DEFAULT\",\n",
    "    showlegend=True,\n",
    "    legend_title_text=\"LOAN_DEFAULT\",\n",
    ")\n",
    "\n",
    "fig.show()\n"
   ]
  },
  {
   "cell_type": "markdown",
   "metadata": {},
   "source": [
    "###  'DISBURSED_AMOUNT' : Amount of Loan disbursed"
   ]
  },
  {
   "cell_type": "code",
   "execution_count": 222,
   "metadata": {},
   "outputs": [
    {
     "name": "stdout",
     "output_type": "stream",
     "text": [
      "count    233154.000000\n",
      "mean      54356.993528\n",
      "std       12971.314171\n",
      "min       13320.000000\n",
      "25%       47145.000000\n",
      "50%       53803.000000\n",
      "75%       60413.000000\n",
      "max      990572.000000\n",
      "Name: DISBURSED_AMOUNT, dtype: float64\n"
     ]
    }
   ],
   "source": [
    "print(df.DISBURSED_AMOUNT.describe())\n"
   ]
  },
  {
   "cell_type": "code",
   "execution_count": 224,
   "metadata": {},
   "outputs": [
    {
     "data": {
      "image/png": "[encoded data removed]",
      "text/plain": [
       "<Figure size 720x432 with 1 Axes>"
      ]
     },
     "metadata": {
      "needs_background": "light"
     },
     "output_type": "display_data"
    }
   ],
   "source": [
    "# Box plot to check for outliers in DISBURSED_AMOUNT\n",
    "plt.figure(figsize=(10, 6))\n",
    "plt.boxplot(df['DISBURSED_AMOUNT'], vert=False, patch_artist=True,\n",
    "            boxprops=dict(facecolor='lightblue', color='blue'),\n",
    "            flierprops=dict(marker='o', color='red', alpha=0.5),\n",
    "            medianprops=dict(color='orange'))\n",
    "\n",
    "plt.title(\"Box Plot of DISBURSED_AMOUNT\", fontsize=16)\n",
    "plt.xlabel(\"DISBURSED_AMOUNT\", fontsize=14)\n",
    "plt.grid(axis='x', linestyle='--', alpha=0.7)\n",
    "plt.show()\n"
   ]
  },
  {
   "cell_type": "code",
   "execution_count": null,
   "metadata": {},
   "outputs": [],
   "source": []
  }
 ],
 "metadata": {
  "kernelspec": {
   "display_name": "Python 3",
   "language": "python",
   "name": "python3"
  },
  "language_info": {
   "codemirror_mode": {
    "name": "ipython",
    "version": 3
   },
   "file_extension": ".py",
   "mimetype": "text/x-python",
   "name": "python",
   "nbconvert_exporter": "python",
   "pygments_lexer": "ipython3",
   "version": "3.8.8"
  },
  "toc-showcode": false,
  "varInspector": {
   "cols": {
    "lenName": 16,
    "lenType": 16,
    "lenVar": 40
   },
   "kernels_config": {
    "python": {
     "delete_cmd_postfix": "",
     "delete_cmd_prefix": "del ",
     "library": "var_list.py",
     "varRefreshCmd": "print(var_dic_list())"
    },
    "r": {
     "delete_cmd_postfix": ") ",
     "delete_cmd_prefix": "rm(",
     "library": "var_list.r",
     "varRefreshCmd": "cat(var_dic_list()) "
    }
   },
   "types_to_exclude": [
    "module",
    "function",
    "builtin_function_or_method",
    "instance",
    "_Feature"
   ],
   "window_display": false
  }
 },
 "nbformat": 4,
 "nbformat_minor": 4
}
