{
 "cells": [
  {
   "cell_type": "code",
   "execution_count": 5,
   "metadata": {},
   "outputs": [
    {
     "name": "stderr",
     "output_type": "stream",
     "text": [
      "C:\\Users\\HP\\AppData\\Roaming\\Python\\Python39\\site-packages\\IPython\\core\\interactiveshell.py:3437: DtypeWarning: Columns (1,48,58,117,127,128,129,132,133,134,137) have mixed types.Specify dtype option on import or set low_memory=False.\n",
      "  exec(code_obj, self.user_global_ns, self.user_ns)\n"
     ]
    },
    {
     "name": "stdout",
     "output_type": "stream",
     "text": [
      "   Unnamed: 0       id  loan_amnt  funded_amnt  funded_amnt_inv        term  \\\n",
      "0           0  1077501     5000.0       5000.0           4975.0   36 months   \n",
      "1           1  1077430     2500.0       2500.0           2500.0   60 months   \n",
      "2           2  1077175     2400.0       2400.0           2400.0   36 months   \n",
      "3           3  1076863    10000.0      10000.0          10000.0   36 months   \n",
      "4           4  1075358     3000.0       3000.0           3000.0   60 months   \n",
      "\n",
      "  int_rate  installment grade sub_grade  ... hardship_start_date  \\\n",
      "0   10.65%       162.87     B        B2  ...                 NaN   \n",
      "1   15.27%        59.83     C        C4  ...                 NaN   \n",
      "2   15.96%        84.33     C        C5  ...                 NaN   \n",
      "3   13.49%       339.31     C        C1  ...                 NaN   \n",
      "4   12.69%        67.79     B        B5  ...                 NaN   \n",
      "\n",
      "  hardship_end_date payment_plan_start_date  hardship_length hardship_dpd  \\\n",
      "0               NaN                     NaN              NaN          NaN   \n",
      "1               NaN                     NaN              NaN          NaN   \n",
      "2               NaN                     NaN              NaN          NaN   \n",
      "3               NaN                     NaN              NaN          NaN   \n",
      "4               NaN                     NaN              NaN          NaN   \n",
      "\n",
      "  hardship_loan_status orig_projected_additional_accrued_interest  \\\n",
      "0                  NaN                                        NaN   \n",
      "1                  NaN                                        NaN   \n",
      "2                  NaN                                        NaN   \n",
      "3                  NaN                                        NaN   \n",
      "4                  NaN                                        NaN   \n",
      "\n",
      "  hardship_payoff_balance_amount hardship_last_payment_amount  \\\n",
      "0                            NaN                          NaN   \n",
      "1                            NaN                          NaN   \n",
      "2                            NaN                          NaN   \n",
      "3                            NaN                          NaN   \n",
      "4                            NaN                          NaN   \n",
      "\n",
      "  debt_settlement_flag  \n",
      "0                    N  \n",
      "1                    N  \n",
      "2                    N  \n",
      "3                    N  \n",
      "4                    N  \n",
      "\n",
      "[5 rows x 142 columns]\n"
     ]
    }
   ],
   "source": [
    "import pandas as pd\n",
    "\n",
    "# Define the file path\n",
    "file_path = 'Loan_status_2007-2020Q3.gzip'  # Change the extension if needed\n",
    "\n",
    "# Try to read the file directly\n",
    "try:\n",
    "    df = pd.read_csv(file_path)\n",
    "    print(df.head())\n",
    "except Exception as e:\n",
    "    print(f\"Error: {e}\")\n"
   ]
  },
  {
   "cell_type": "code",
   "execution_count": 9,
   "metadata": {},
   "outputs": [
    {
     "data": {
      "text/plain": [
       "Unnamed: 0                                      int64\n",
       "id                                             object\n",
       "loan_amnt                                     float64\n",
       "funded_amnt                                   float64\n",
       "funded_amnt_inv                               float64\n",
       "                                               ...   \n",
       "hardship_loan_status                           object\n",
       "orig_projected_additional_accrued_interest    float64\n",
       "hardship_payoff_balance_amount                float64\n",
       "hardship_last_payment_amount                  float64\n",
       "debt_settlement_flag                           object\n",
       "Length: 142, dtype: object"
      ]
     },
     "execution_count": 9,
     "metadata": {},
     "output_type": "execute_result"
    }
   ],
   "source": [
    "df.dtypes"
   ]
  },
  {
   "cell_type": "markdown",
   "metadata": {},
   "source": []
  }
 ],
 "metadata": {
  "kernelspec": {
   "display_name": "Python 3",
   "language": "python",
   "name": "python3"
  },
  "language_info": {
   "codemirror_mode": {
    "name": "ipython",
    "version": 3
   },
   "file_extension": ".py",
   "mimetype": "text/x-python",
   "name": "python",
   "nbconvert_exporter": "python",
   "pygments_lexer": "ipython3",
   "version": "3.9.4"
  }
 },
 "nbformat": 4,
 "nbformat_minor": 2
}
